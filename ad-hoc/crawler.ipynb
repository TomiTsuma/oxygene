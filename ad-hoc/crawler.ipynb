{
 "cells": [
  {
   "cell_type": "code",
   "execution_count": 1,
   "id": "98936378-95aa-4210-9ae7-385f8c5d126e",
   "metadata": {},
   "outputs": [],
   "source": [
    "import requests\n",
    "from bs4 import BeautifulSoup\n",
    "from urllib.parse import urljoin\n",
    "import time\n",
    "import re\n",
    "import pandas as pd"
   ]
  },
  {
   "cell_type": "code",
   "execution_count": 2,
   "id": "f1692ffb-0001-4d44-b9f0-01b98bab796d",
   "metadata": {},
   "outputs": [],
   "source": [
    "df = pd.DataFrame()"
   ]
  },
  {
   "cell_type": "code",
   "execution_count": 3,
   "id": "5b08a6e1-d409-4f31-8a38-ac63b0c86b0f",
   "metadata": {},
   "outputs": [],
   "source": [
    "active =[]\n",
    "links = []\n",
    "paragraphs = []\n",
    "times = []\n",
    "bases = []\n",
    "images = []"
   ]
  },
  {
   "cell_type": "code",
   "execution_count": 4,
   "id": "804b3675-1d7f-4d12-84f9-4997b592d79a",
   "metadata": {},
   "outputs": [],
   "source": [
    "\n",
    "def is_active_url(url):\n",
    "    \"\"\"\n",
    "    Check if the URL is active by sending a HEAD request.\n",
    "    \"\"\"\n",
    "    try:\n",
    "        response = requests.head(url, allow_redirects=True, timeout=5)\n",
    "        return response.status_code == 200\n",
    "    except requests.RequestException:\n",
    "        return False\n",
    "\n"
   ]
  },
  {
   "cell_type": "code",
   "execution_count": 5,
   "id": "11a66f37-29f3-4a35-8fc9-c18d12e98ff0",
   "metadata": {},
   "outputs": [],
   "source": [
    "def find_all_links(url, soup):\n",
    "    \"\"\"\n",
    "    Find all the hyperlinks in the current page.\n",
    "    \"\"\"\n",
    "    links = set()\n",
    "    for link in soup.find_all('a', href=True):\n",
    "        full_url = urljoin(url, link['href'])\n",
    "        if url in full_url:  # Only consider URLs in the same domain\n",
    "            links.add(full_url)\n",
    "    return links\n",
    "\n"
   ]
  },
  {
   "cell_type": "code",
   "execution_count": null,
   "id": "2d3a3a59-5186-401b-bd89-9722457dd06a",
   "metadata": {},
   "outputs": [],
   "source": []
  },
  {
   "cell_type": "code",
   "execution_count": 6,
   "id": "6ae0b543-2904-4181-b6f9-c2b5b3453aac",
   "metadata": {},
   "outputs": [],
   "source": [
    "def getPageTime(url):\n",
    "    response = requests.get(url)\n",
    "    html_content = response.text\n",
    "    \n",
    "    # Parse the HTML with BeautifulSoup\n",
    "    soup = BeautifulSoup(html_content, 'html.parser')\n",
    "    \n",
    "    # Check for meta tags related to modification date\n",
    "    last_modified = soup.find('meta', {'http-equiv': 'last-modified'})\n",
    "    date_meta = soup.find('meta', {'name': 'date'})\n",
    "    \n",
    "    if last_modified:\n",
    "        return last_modified.get('content')\n",
    "    elif date_meta:\n",
    "        return date_meta.get('content')\n",
    "    else:\n",
    "        return None\n"
   ]
  },
  {
   "cell_type": "code",
   "execution_count": 7,
   "id": "22e62507-bd6e-463d-b859-a51b62525381",
   "metadata": {},
   "outputs": [],
   "source": [
    "def extract_base_url(url):\n",
    "    # Regular expression pattern for extracting base URL\n",
    "    pattern = re.compile(r'^(https?:\\/\\/[^\\/]+)')\n",
    "    \n",
    "    # Search for the pattern in the provided URL\n",
    "    match = pattern.search(url)\n",
    "    \n",
    "    # Return the base URL if a match is found, otherwise None\n",
    "    return match.group(1) if match else None"
   ]
  },
  {
   "cell_type": "code",
   "execution_count": 8,
   "id": "b0b93245-4bbc-41cd-9036-166093f57fc8",
   "metadata": {},
   "outputs": [],
   "source": [
    "def getPageText(url):    \n",
    "    response = requests.get(url)\n",
    "    html_content = response.text\n",
    "    \n",
    "    # Step 2: Parse the HTML with BeautifulSoup\n",
    "    soup = BeautifulSoup(html_content, 'html.parser')\n",
    "    \n",
    "    # Step 3: Remove Unwanted Tags\n",
    "    # Find and remove <header>, <footer>, and <nav> tags\n",
    "    for tag_name in ['header', 'footer', 'nav']:\n",
    "        for element in soup.find_all(tag_name):\n",
    "            element.decompose()  # Removes the tag and its content\n",
    "    \n",
    "    # Step 4: Extract <p> Tags\n",
    "    # Find all <p> tags\n",
    "    paragraphs = soup.find_all('p')\n",
    "    \n",
    "    return \"\\n\".join([i.get_text(strip=True) for i in paragraphs])"
   ]
  },
  {
   "cell_type": "code",
   "execution_count": 9,
   "id": "e92a4eec-0812-4976-9d8a-facfcfca1ad3",
   "metadata": {},
   "outputs": [],
   "source": [
    "def getImages(url):\n",
    "    response = requests.get(url)\n",
    "    \n",
    "    # Check if the request was successful (status code 200)\n",
    "    if response.status_code == 200:\n",
    "        # Parse the HTML content using BeautifulSoup\n",
    "        soup = BeautifulSoup(response.text, 'html.parser')\n",
    "    \n",
    "        # Find all <img> tags on the page\n",
    "        img_tags = soup.find_all('img')\n",
    "    \n",
    "        # Extract the URLs of the images\n",
    "        img_urls = []\n",
    "        for img in img_tags:\n",
    "            img_url = img.get('src')\n",
    "            # Handle relative URLs by converting them to absolute URLs\n",
    "            img_url = urljoin(url, img_url)\n",
    "            img_urls.append(img_url)\n",
    "    \n",
    "        # Print the collected image URLs\n",
    "        print(f\"Found {len(img_urls)} images:\")\n",
    "        return img_urls\n",
    "    else:\n",
    "        print(f\"Failed to retrieve webpage. Status code: {response.status_code}\")\n",
    "        return []"
   ]
  },
  {
   "cell_type": "code",
   "execution_count": null,
   "id": "15c97a6f-ef66-49c4-981b-714648dad451",
   "metadata": {},
   "outputs": [],
   "source": []
  },
  {
   "cell_type": "code",
   "execution_count": 10,
   "id": "948101f2-cb4c-40e1-a4cd-0065009d44a2",
   "metadata": {},
   "outputs": [],
   "source": [
    "visited_urls = set()"
   ]
  },
  {
   "cell_type": "code",
   "execution_count": 11,
   "id": "2152cdee-fc25-4ba2-984d-4065e716f09f",
   "metadata": {},
   "outputs": [],
   "source": [
    "start = time.time()"
   ]
  },
  {
   "cell_type": "code",
   "execution_count": 12,
   "id": "8aaac865-de2c-4a8c-8b79-bbbc3eeff4f0",
   "metadata": {},
   "outputs": [],
   "source": [
    "def crawl_website(base_url, max_pages=100):\n",
    "    \n",
    "    global visited_urls\n",
    "\n",
    "    try:\n",
    "        response = requests.get(base_url, timeout=5)\n",
    "        if response.status_code == 200:\n",
    "            print(f\"Active URL: {base_url}\")\n",
    "            soup = BeautifulSoup(response.content, 'html.parser')\n",
    "            current_links = find_all_links(base_url, soup)\n",
    "            visited_urls.add(base_url)\n",
    "        else:\n",
    "            print(f\"Inactive URL: {base_url} - Status Code: {response.status_code}\")\n",
    "    except requests.RequestException as e:\n",
    "        print(f\"Failed to fetch {base_url}: {e}\")\n",
    "\n",
    "    for i in [ j for j in current_links if j not in visited_urls]:\n",
    "        if(is_active_url(i)):\n",
    "            paragraphs.append(getPageText(i))\n",
    "            links.append(i)\n",
    "            crawl_website(i)\n",
    "            times.append(getPageTime(i))\n",
    "            bases.append(extract_base_url(i))\n",
    "            images.append(getImages(i))"
   ]
  },
  {
   "cell_type": "code",
   "execution_count": null,
   "id": "8a11afe0-2737-452d-8884-6739752f6d1c",
   "metadata": {},
   "outputs": [],
   "source": []
  },
  {
   "cell_type": "code",
   "execution_count": 13,
   "id": "acedf688-2e29-4a23-bcec-a48e2f8c6c6d",
   "metadata": {
    "scrolled": true
   },
   "outputs": [
    {
     "name": "stdout",
     "output_type": "stream",
     "text": [
      "Active URL: https://www.nation.co.ke\n",
      "Active URL: https://www.nation.co.ke/kenya/account#purchases\n",
      "Found 1 images:\n",
      "Active URL: https://www.nation.co.ke/kenya/counties/mountain\n",
      "Found 23 images:\n",
      "Active URL: https://www.nation.co.ke/kenya/blogs-opinion/opinion/we-must-take-stand-on-world-issues-4748904\n",
      "Active URL: https://www.nation.co.ke/kenya/blogs-opinion/opinion/we-must-take-stand-on-world-issues-4748904#summary\n",
      "Found 10 images:\n",
      "Active URL: https://www.nation.co.ke/kenya/blogs-opinion/opinion/we-must-take-stand-on-world-issues-4748904#related\n",
      "Found 10 images:\n",
      "Active URL: https://www.nation.co.ke/kenya/blogs-opinion/opinion/we-must-take-stand-on-world-issues-4748904#story\n",
      "Found 10 images:\n",
      "Found 10 images:\n",
      "Active URL: https://www.nation.co.ke/kenya/life-and-style/wellness\n",
      "Found 27 images:\n",
      "Active URL: https://www.nation.co.ke/kenya/audio\n",
      "Active URL: https://www.nation.co.ke/kenya/audio/how-to-be-a-good-son-in-law-4638366\n",
      "Found 4 images:\n",
      "Active URL: https://www.nation.co.ke/kenya/audio/what-next-after-maandamano-press-attacks--4202430\n",
      "Found 4 images:\n",
      "Active URL: https://www.nation.co.ke/kenya/audio/one-man-s-fight-against-patronage-4015422\n",
      "Found 4 images:\n",
      "Active URL: https://www.nation.co.ke/kenya/audio/cctv-footage-revealed-moment-nhif-employee-was-shot-on-city-street-4131880\n",
      "Found 4 images:\n",
      "Active URL: https://www.nation.co.ke/kenya/audio/turkana-and-oil--4359770\n",
      "Found 4 images:\n",
      "Active URL: https://www.nation.co.ke/kenya/audio/money-moves-navigating-instant-gratification-in-your-financial-journey-4336424\n",
      "Found 4 images:\n",
      "Active URL: https://www.nation.co.ke/kenya/audio/george-gachui-4372530\n",
      "Found 4 images:\n",
      "Active URL: https://www.nation.co.ke/kenya/audio/this-is-my-fgm-story-dr-ajwa-haji-fgm-survivor-activist-4342810\n",
      "Found 4 images:\n",
      "Active URL: https://www.nation.co.ke/kenya/audio/honolulu-marathon-s-jonathan-cross-reflects-on-challenges-of-securing-elite-kenyan-runners-in-the-1980s-4307510\n",
      "Found 4 images:\n",
      "Active URL: https://www.nation.co.ke/kenya/audio/groundnuts-superfoods-and-the-high-libido-thing-4015410\n",
      "Found 4 images:\n",
      "Active URL: https://www.nation.co.ke/kenya/audio/she-said-she-doesn-t-date-short-men-feat-the-intern--3492700\n",
      "Found 4 images:\n",
      "Active URL: https://www.nation.co.ke/kenya/audio/men-and-their-hustle-feat-steve-nyumba-3446780\n",
      "Found 4 images:\n",
      "Active URL: https://www.nation.co.ke/kenya/audio/why-families-are-opting-for-dayburgs-instead-of-live-in-nannies-4529858\n",
      "Found 4 images:\n",
      "Active URL: https://www.nation.co.ke/kenya/audio/metamorphosis-of-apathy-4023726\n",
      "Found 4 images:\n",
      "Active URL: https://www.nation.co.ke/kenya/audio/the-stock-exchange-is-the-economy-4140404\n",
      "Found 4 images:\n",
      "Active URL: https://www.nation.co.ke/kenya/audio/which-doctor--4547940\n",
      "Found 4 images:\n",
      "Active URL: https://www.nation.co.ke/kenya/audio/last-night-in-asaba-by-chike-frankie-edozien-3492686\n",
      "Found 4 images:\n",
      "Active URL: https://www.nation.co.ke/kenya/audio/the-african-american-experience-in-africa-3289414\n",
      "Found 4 images:\n",
      "Active URL: https://www.nation.co.ke/kenya/audio/the-disappearance-of-bogonko-bosire-3203670\n",
      "Found 4 images:\n",
      "Active URL: https://www.nation.co.ke/kenya/audio/sportpesa-a-gamblers-paradise--3510432\n",
      "Found 5 images:\n",
      "Active URL: https://www.nation.co.ke/kenya/audio/canadian-tv-news-anchor-ginella-massa-3363480\n",
      "Found 5 images:\n",
      "Active URL: https://www.nation.co.ke/kenya/audio/paradise-lost-promo-the-louis-otieno-story-3832142\n",
      "Found 5 images:\n",
      "Active URL: https://www.nation.co.ke/kenya/audio/dear-dad-this-is-how-your-absence-affected-me-4500546\n",
      "Found 4 images:\n",
      "Active URL: https://www.nation.co.ke/kenya/audio/career-driven-4529988\n",
      "Found 4 images:\n",
      "Active URL: https://www.nation.co.ke/kenya/audio/africa-feels-pinch-4607142\n",
      "Found 4 images:\n",
      "Active URL: https://www.nation.co.ke/kenya/audio/demystifying-taxes-unraveling-the-secrets-to-understanding-taxation-4330996\n",
      "Found 4 images:\n",
      "Active URL: https://www.nation.co.ke/kenya/audio/kvf-president-defends-his-inclusion-in-malkia-strikers-technical-bench-for-paris-olympics-sport-on-4634210\n",
      "Found 4 images:\n",
      "Active URL: https://www.nation.co.ke/kenya/audio/the-wrc-hits-and-misses-4287612\n",
      "Found 4 images:\n",
      "Active URL: https://www.nation.co.ke/kenya/audio/get-ready-for-2023-hos-s-top-10-events-of-2022-4124762\n",
      "Found 4 images:\n",
      "Active URL: https://www.nation.co.ke/kenya/audio/when-death-do-us-part--3567670\n",
      "Found 4 images:\n",
      "Active URL: https://www.nation.co.ke/kenya/audio/special-edition-is-kenya-commitment-to-family-planning-program--4742196\n",
      "Found 4 images:\n",
      "Active URL: https://www.nation.co.ke/kenya/audio/karan-patel-4386884\n",
      "Found 4 images:\n",
      "Active URL: https://www.nation.co.ke/kenya/audio/hostage-relationships-part-2--3403618\n",
      "Found 4 images:\n",
      "Active URL: https://www.nation.co.ke/kenya/audio/case-number-zero-an-introduction-3017648\n",
      "Found 4 images:\n",
      "Active URL: https://www.nation.co.ke/kenya/audio/a-fixed-portrait-smile-by-joshua-mmali-3492712\n",
      "Found 4 images:\n",
      "Active URL: https://www.nation.co.ke/kenya/audio/scholar-and-author-dr-craig-considine-3363452\n",
      "Found 5 images:\n",
      "Active URL: https://www.nation.co.ke/kenya/audio/navigating-self-publishing-4422444\n",
      "Found 4 images:\n",
      "Active URL: https://www.nation.co.ke/kenya/audio/sportpesa-the-rise-3491086\n",
      "Found 6 images:\n",
      "Active URL: https://www.nation.co.ke/kenya/audio/the-season-that-was--4731904\n",
      "Found 4 images:\n",
      "Active URL: https://www.nation.co.ke/kenya/audio/-you-have-to-find-a-man-who-is-financial-stable--4420456\n",
      "Found 4 images:\n",
      "Active URL: https://www.nation.co.ke/kenya/audio/bogonko-bosire-the-aftermath-3269144\n",
      "Found 4 images:\n",
      "Active URL: https://www.nation.co.ke/kenya/audio/tasty-spicy-millions-herbs-and-spices-in-nakuru-county-3992908\n",
      "Found 4 images:\n",
      "Active URL: https://www.nation.co.ke/kenya/audio/the-pension-scheme-that-doubles-your-money-4442078\n",
      "Found 4 images:\n",
      "Active URL: https://www.nation.co.ke/kenya/audio/how-to-build-a-successful-digital-business-melanie-hapisu-ceo-digipath-africa-4341738\n",
      "Found 4 images:\n",
      "Active URL: https://www.nation.co.ke/kenya/audio/the-fruit-and-the-puree-3965166\n",
      "Found 4 images:\n",
      "Active URL: https://www.nation.co.ke/kenya/audio/secrets-to-making-any-venue-work-for-your-event--4023218\n",
      "Found 4 images:\n",
      "Active URL: https://www.nation.co.ke/kenya/audio/is-it-better-to-own-a-house-than-rent-one--4121856\n",
      "Found 4 images:\n",
      "Active URL: https://www.nation.co.ke/kenya/audio/letsile-tebogo-winning-a-medal-is-not-a-dream-come-true-4719572\n",
      "Found 4 images:\n",
      "Active URL: https://www.nation.co.ke/kenya/audio/chapter-2-bogonko-bosire-twisted-genius-3210238\n",
      "Found 4 images:\n",
      "Active URL: https://www.nation.co.ke/kenya/audio/daily-politics-ruto-s-100-days-and-the-war-against-sakaja-4063710\n",
      "Found 4 images:\n",
      "Active URL: https://www.nation.co.ke/kenya/audio/understanding-the-death-penalty-in-kenya--4555234\n",
      "Found 4 images:\n",
      "Active URL: https://www.nation.co.ke/kenya/audio/why-did-you-leave--3288800\n",
      "Found 4 images:\n",
      "Active URL: https://www.nation.co.ke/kenya/audio/righteous-anger-by-amani-3450608\n",
      "Found 4 images:\n",
      "Active URL: https://www.nation.co.ke/kenya/audio/fintech-for-creatives-japheth-achimba-4355146\n",
      "Found 4 images:\n",
      "Active URL: https://www.nation.co.ke/kenya/audio/gender-representation-at-climate-conferences-4463192\n",
      "Found 4 images:\n",
      "Active URL: https://www.nation.co.ke/kenya/audio/bogonko-bosire-chapter-7-what-might-have-happened--3243998\n",
      "Found 4 images:\n",
      "Active URL: https://www.nation.co.ke/kenya/audio/the-retirement-of-general-robert-kibochi-4236316\n",
      "Found 4 images:\n",
      "Active URL: https://www.nation.co.ke/kenya/audio/sultan-sooud-al-qassemi-3363488\n",
      "Found 5 images:\n",
      "Active URL: https://www.nation.co.ke/kenya/audio/new-tech-trends-creatives-should-embrace-donself-noriega-founder-rkc-record-label-4341748\n",
      "Found 4 images:\n",
      "Active URL: https://www.nation.co.ke/kenya/audio/bogonko-bosire-bonus-episode-inconvenient-truth-3257272\n",
      "Found 4 images:\n",
      "Active URL: https://www.nation.co.ke/kenya/audio/paws-and-listen-4515588\n",
      "Found 4 images:\n",
      "Active URL: https://www.nation.co.ke/kenya/audio/explained-sudden-death-an-unexplained-family-pattern-and-other-reasons-why-genetic-screening-is-important-4723996\n",
      "Found 4 images:\n"
     ]
    },
    {
     "ename": "KeyboardInterrupt",
     "evalue": "",
     "output_type": "error",
     "traceback": [
      "\u001b[1;31m---------------------------------------------------------------------------\u001b[0m",
      "\u001b[1;31mKeyboardInterrupt\u001b[0m                         Traceback (most recent call last)",
      "Cell \u001b[1;32mIn[13], line 1\u001b[0m\n\u001b[1;32m----> 1\u001b[0m \u001b[43mcrawl_website\u001b[49m\u001b[43m(\u001b[49m\u001b[38;5;124;43m\"\u001b[39;49m\u001b[38;5;124;43mhttps://www.nation.co.ke\u001b[39;49m\u001b[38;5;124;43m\"\u001b[39;49m\u001b[43m,\u001b[49m\u001b[43m \u001b[49m\u001b[38;5;241;43m10\u001b[39;49m\u001b[43m)\u001b[49m\n",
      "Cell \u001b[1;32mIn[12], line 21\u001b[0m, in \u001b[0;36mcrawl_website\u001b[1;34m(base_url, max_pages)\u001b[0m\n\u001b[0;32m     19\u001b[0m paragraphs\u001b[38;5;241m.\u001b[39mappend(getPageText(i))\n\u001b[0;32m     20\u001b[0m links\u001b[38;5;241m.\u001b[39mappend(i)\n\u001b[1;32m---> 21\u001b[0m \u001b[43mcrawl_website\u001b[49m\u001b[43m(\u001b[49m\u001b[43mi\u001b[49m\u001b[43m)\u001b[49m\n\u001b[0;32m     22\u001b[0m times\u001b[38;5;241m.\u001b[39mappend(getPageTime(i))\n\u001b[0;32m     23\u001b[0m bases\u001b[38;5;241m.\u001b[39mappend(extract_base_url(i))\n",
      "Cell \u001b[1;32mIn[12], line 21\u001b[0m, in \u001b[0;36mcrawl_website\u001b[1;34m(base_url, max_pages)\u001b[0m\n\u001b[0;32m     19\u001b[0m paragraphs\u001b[38;5;241m.\u001b[39mappend(getPageText(i))\n\u001b[0;32m     20\u001b[0m links\u001b[38;5;241m.\u001b[39mappend(i)\n\u001b[1;32m---> 21\u001b[0m \u001b[43mcrawl_website\u001b[49m\u001b[43m(\u001b[49m\u001b[43mi\u001b[49m\u001b[43m)\u001b[49m\n\u001b[0;32m     22\u001b[0m times\u001b[38;5;241m.\u001b[39mappend(getPageTime(i))\n\u001b[0;32m     23\u001b[0m bases\u001b[38;5;241m.\u001b[39mappend(extract_base_url(i))\n",
      "Cell \u001b[1;32mIn[12], line 6\u001b[0m, in \u001b[0;36mcrawl_website\u001b[1;34m(base_url, max_pages)\u001b[0m\n\u001b[0;32m      3\u001b[0m \u001b[38;5;28;01mglobal\u001b[39;00m visited_urls\n\u001b[0;32m      5\u001b[0m \u001b[38;5;28;01mtry\u001b[39;00m:\n\u001b[1;32m----> 6\u001b[0m     response \u001b[38;5;241m=\u001b[39m \u001b[43mrequests\u001b[49m\u001b[38;5;241;43m.\u001b[39;49m\u001b[43mget\u001b[49m\u001b[43m(\u001b[49m\u001b[43mbase_url\u001b[49m\u001b[43m,\u001b[49m\u001b[43m \u001b[49m\u001b[43mtimeout\u001b[49m\u001b[38;5;241;43m=\u001b[39;49m\u001b[38;5;241;43m5\u001b[39;49m\u001b[43m)\u001b[49m\n\u001b[0;32m      7\u001b[0m     \u001b[38;5;28;01mif\u001b[39;00m response\u001b[38;5;241m.\u001b[39mstatus_code \u001b[38;5;241m==\u001b[39m \u001b[38;5;241m200\u001b[39m:\n\u001b[0;32m      8\u001b[0m         \u001b[38;5;28mprint\u001b[39m(\u001b[38;5;124mf\u001b[39m\u001b[38;5;124m\"\u001b[39m\u001b[38;5;124mActive URL: \u001b[39m\u001b[38;5;132;01m{\u001b[39;00mbase_url\u001b[38;5;132;01m}\u001b[39;00m\u001b[38;5;124m\"\u001b[39m)\n",
      "File \u001b[1;32m~\\AppData\\Roaming\\Python\\Python38\\site-packages\\requests\\api.py:73\u001b[0m, in \u001b[0;36mget\u001b[1;34m(url, params, **kwargs)\u001b[0m\n\u001b[0;32m     62\u001b[0m \u001b[38;5;28;01mdef\u001b[39;00m \u001b[38;5;21mget\u001b[39m(url, params\u001b[38;5;241m=\u001b[39m\u001b[38;5;28;01mNone\u001b[39;00m, \u001b[38;5;241m*\u001b[39m\u001b[38;5;241m*\u001b[39mkwargs):\n\u001b[0;32m     63\u001b[0m \u001b[38;5;250m    \u001b[39m\u001b[38;5;124mr\u001b[39m\u001b[38;5;124;03m\"\"\"Sends a GET request.\u001b[39;00m\n\u001b[0;32m     64\u001b[0m \n\u001b[0;32m     65\u001b[0m \u001b[38;5;124;03m    :param url: URL for the new :class:`Request` object.\u001b[39;00m\n\u001b[1;32m   (...)\u001b[0m\n\u001b[0;32m     70\u001b[0m \u001b[38;5;124;03m    :rtype: requests.Response\u001b[39;00m\n\u001b[0;32m     71\u001b[0m \u001b[38;5;124;03m    \"\"\"\u001b[39;00m\n\u001b[1;32m---> 73\u001b[0m     \u001b[38;5;28;01mreturn\u001b[39;00m \u001b[43mrequest\u001b[49m\u001b[43m(\u001b[49m\u001b[38;5;124;43m\"\u001b[39;49m\u001b[38;5;124;43mget\u001b[39;49m\u001b[38;5;124;43m\"\u001b[39;49m\u001b[43m,\u001b[49m\u001b[43m \u001b[49m\u001b[43murl\u001b[49m\u001b[43m,\u001b[49m\u001b[43m \u001b[49m\u001b[43mparams\u001b[49m\u001b[38;5;241;43m=\u001b[39;49m\u001b[43mparams\u001b[49m\u001b[43m,\u001b[49m\u001b[43m \u001b[49m\u001b[38;5;241;43m*\u001b[39;49m\u001b[38;5;241;43m*\u001b[39;49m\u001b[43mkwargs\u001b[49m\u001b[43m)\u001b[49m\n",
      "File \u001b[1;32m~\\AppData\\Roaming\\Python\\Python38\\site-packages\\requests\\api.py:59\u001b[0m, in \u001b[0;36mrequest\u001b[1;34m(method, url, **kwargs)\u001b[0m\n\u001b[0;32m     55\u001b[0m \u001b[38;5;66;03m# By using the 'with' statement we are sure the session is closed, thus we\u001b[39;00m\n\u001b[0;32m     56\u001b[0m \u001b[38;5;66;03m# avoid leaving sockets open which can trigger a ResourceWarning in some\u001b[39;00m\n\u001b[0;32m     57\u001b[0m \u001b[38;5;66;03m# cases, and look like a memory leak in others.\u001b[39;00m\n\u001b[0;32m     58\u001b[0m \u001b[38;5;28;01mwith\u001b[39;00m sessions\u001b[38;5;241m.\u001b[39mSession() \u001b[38;5;28;01mas\u001b[39;00m session:\n\u001b[1;32m---> 59\u001b[0m     \u001b[38;5;28;01mreturn\u001b[39;00m \u001b[43msession\u001b[49m\u001b[38;5;241;43m.\u001b[39;49m\u001b[43mrequest\u001b[49m\u001b[43m(\u001b[49m\u001b[43mmethod\u001b[49m\u001b[38;5;241;43m=\u001b[39;49m\u001b[43mmethod\u001b[49m\u001b[43m,\u001b[49m\u001b[43m \u001b[49m\u001b[43murl\u001b[49m\u001b[38;5;241;43m=\u001b[39;49m\u001b[43murl\u001b[49m\u001b[43m,\u001b[49m\u001b[43m \u001b[49m\u001b[38;5;241;43m*\u001b[39;49m\u001b[38;5;241;43m*\u001b[39;49m\u001b[43mkwargs\u001b[49m\u001b[43m)\u001b[49m\n",
      "File \u001b[1;32m~\\AppData\\Roaming\\Python\\Python38\\site-packages\\requests\\sessions.py:589\u001b[0m, in \u001b[0;36mSession.request\u001b[1;34m(self, method, url, params, data, headers, cookies, files, auth, timeout, allow_redirects, proxies, hooks, stream, verify, cert, json)\u001b[0m\n\u001b[0;32m    584\u001b[0m send_kwargs \u001b[38;5;241m=\u001b[39m {\n\u001b[0;32m    585\u001b[0m     \u001b[38;5;124m\"\u001b[39m\u001b[38;5;124mtimeout\u001b[39m\u001b[38;5;124m\"\u001b[39m: timeout,\n\u001b[0;32m    586\u001b[0m     \u001b[38;5;124m\"\u001b[39m\u001b[38;5;124mallow_redirects\u001b[39m\u001b[38;5;124m\"\u001b[39m: allow_redirects,\n\u001b[0;32m    587\u001b[0m }\n\u001b[0;32m    588\u001b[0m send_kwargs\u001b[38;5;241m.\u001b[39mupdate(settings)\n\u001b[1;32m--> 589\u001b[0m resp \u001b[38;5;241m=\u001b[39m \u001b[38;5;28;43mself\u001b[39;49m\u001b[38;5;241;43m.\u001b[39;49m\u001b[43msend\u001b[49m\u001b[43m(\u001b[49m\u001b[43mprep\u001b[49m\u001b[43m,\u001b[49m\u001b[43m \u001b[49m\u001b[38;5;241;43m*\u001b[39;49m\u001b[38;5;241;43m*\u001b[39;49m\u001b[43msend_kwargs\u001b[49m\u001b[43m)\u001b[49m\n\u001b[0;32m    591\u001b[0m \u001b[38;5;28;01mreturn\u001b[39;00m resp\n",
      "File \u001b[1;32m~\\AppData\\Roaming\\Python\\Python38\\site-packages\\requests\\sessions.py:725\u001b[0m, in \u001b[0;36mSession.send\u001b[1;34m(self, request, **kwargs)\u001b[0m\n\u001b[0;32m    722\u001b[0m \u001b[38;5;28;01mif\u001b[39;00m allow_redirects:\n\u001b[0;32m    723\u001b[0m     \u001b[38;5;66;03m# Redirect resolving generator.\u001b[39;00m\n\u001b[0;32m    724\u001b[0m     gen \u001b[38;5;241m=\u001b[39m \u001b[38;5;28mself\u001b[39m\u001b[38;5;241m.\u001b[39mresolve_redirects(r, request, \u001b[38;5;241m*\u001b[39m\u001b[38;5;241m*\u001b[39mkwargs)\n\u001b[1;32m--> 725\u001b[0m     history \u001b[38;5;241m=\u001b[39m [resp \u001b[38;5;28;01mfor\u001b[39;00m resp \u001b[38;5;129;01min\u001b[39;00m gen]\n\u001b[0;32m    726\u001b[0m \u001b[38;5;28;01melse\u001b[39;00m:\n\u001b[0;32m    727\u001b[0m     history \u001b[38;5;241m=\u001b[39m []\n",
      "File \u001b[1;32m~\\AppData\\Roaming\\Python\\Python38\\site-packages\\requests\\sessions.py:725\u001b[0m, in \u001b[0;36m<listcomp>\u001b[1;34m(.0)\u001b[0m\n\u001b[0;32m    722\u001b[0m \u001b[38;5;28;01mif\u001b[39;00m allow_redirects:\n\u001b[0;32m    723\u001b[0m     \u001b[38;5;66;03m# Redirect resolving generator.\u001b[39;00m\n\u001b[0;32m    724\u001b[0m     gen \u001b[38;5;241m=\u001b[39m \u001b[38;5;28mself\u001b[39m\u001b[38;5;241m.\u001b[39mresolve_redirects(r, request, \u001b[38;5;241m*\u001b[39m\u001b[38;5;241m*\u001b[39mkwargs)\n\u001b[1;32m--> 725\u001b[0m     history \u001b[38;5;241m=\u001b[39m [resp \u001b[38;5;28;01mfor\u001b[39;00m resp \u001b[38;5;129;01min\u001b[39;00m gen]\n\u001b[0;32m    726\u001b[0m \u001b[38;5;28;01melse\u001b[39;00m:\n\u001b[0;32m    727\u001b[0m     history \u001b[38;5;241m=\u001b[39m []\n",
      "File \u001b[1;32m~\\AppData\\Roaming\\Python\\Python38\\site-packages\\requests\\sessions.py:266\u001b[0m, in \u001b[0;36mSessionRedirectMixin.resolve_redirects\u001b[1;34m(self, resp, req, stream, timeout, verify, cert, proxies, yield_requests, **adapter_kwargs)\u001b[0m\n\u001b[0;32m    263\u001b[0m     \u001b[38;5;28;01myield\u001b[39;00m req\n\u001b[0;32m    264\u001b[0m \u001b[38;5;28;01melse\u001b[39;00m:\n\u001b[1;32m--> 266\u001b[0m     resp \u001b[38;5;241m=\u001b[39m \u001b[38;5;28;43mself\u001b[39;49m\u001b[38;5;241;43m.\u001b[39;49m\u001b[43msend\u001b[49m\u001b[43m(\u001b[49m\n\u001b[0;32m    267\u001b[0m \u001b[43m        \u001b[49m\u001b[43mreq\u001b[49m\u001b[43m,\u001b[49m\n\u001b[0;32m    268\u001b[0m \u001b[43m        \u001b[49m\u001b[43mstream\u001b[49m\u001b[38;5;241;43m=\u001b[39;49m\u001b[43mstream\u001b[49m\u001b[43m,\u001b[49m\n\u001b[0;32m    269\u001b[0m \u001b[43m        \u001b[49m\u001b[43mtimeout\u001b[49m\u001b[38;5;241;43m=\u001b[39;49m\u001b[43mtimeout\u001b[49m\u001b[43m,\u001b[49m\n\u001b[0;32m    270\u001b[0m \u001b[43m        \u001b[49m\u001b[43mverify\u001b[49m\u001b[38;5;241;43m=\u001b[39;49m\u001b[43mverify\u001b[49m\u001b[43m,\u001b[49m\n\u001b[0;32m    271\u001b[0m \u001b[43m        \u001b[49m\u001b[43mcert\u001b[49m\u001b[38;5;241;43m=\u001b[39;49m\u001b[43mcert\u001b[49m\u001b[43m,\u001b[49m\n\u001b[0;32m    272\u001b[0m \u001b[43m        \u001b[49m\u001b[43mproxies\u001b[49m\u001b[38;5;241;43m=\u001b[39;49m\u001b[43mproxies\u001b[49m\u001b[43m,\u001b[49m\n\u001b[0;32m    273\u001b[0m \u001b[43m        \u001b[49m\u001b[43mallow_redirects\u001b[49m\u001b[38;5;241;43m=\u001b[39;49m\u001b[38;5;28;43;01mFalse\u001b[39;49;00m\u001b[43m,\u001b[49m\n\u001b[0;32m    274\u001b[0m \u001b[43m        \u001b[49m\u001b[38;5;241;43m*\u001b[39;49m\u001b[38;5;241;43m*\u001b[39;49m\u001b[43madapter_kwargs\u001b[49m\u001b[43m,\u001b[49m\n\u001b[0;32m    275\u001b[0m \u001b[43m    \u001b[49m\u001b[43m)\u001b[49m\n\u001b[0;32m    277\u001b[0m     extract_cookies_to_jar(\u001b[38;5;28mself\u001b[39m\u001b[38;5;241m.\u001b[39mcookies, prepared_request, resp\u001b[38;5;241m.\u001b[39mraw)\n\u001b[0;32m    279\u001b[0m     \u001b[38;5;66;03m# extract redirect url, if any, for the next loop\u001b[39;00m\n",
      "File \u001b[1;32m~\\AppData\\Roaming\\Python\\Python38\\site-packages\\requests\\sessions.py:703\u001b[0m, in \u001b[0;36mSession.send\u001b[1;34m(self, request, **kwargs)\u001b[0m\n\u001b[0;32m    700\u001b[0m start \u001b[38;5;241m=\u001b[39m preferred_clock()\n\u001b[0;32m    702\u001b[0m \u001b[38;5;66;03m# Send the request\u001b[39;00m\n\u001b[1;32m--> 703\u001b[0m r \u001b[38;5;241m=\u001b[39m \u001b[43madapter\u001b[49m\u001b[38;5;241;43m.\u001b[39;49m\u001b[43msend\u001b[49m\u001b[43m(\u001b[49m\u001b[43mrequest\u001b[49m\u001b[43m,\u001b[49m\u001b[43m \u001b[49m\u001b[38;5;241;43m*\u001b[39;49m\u001b[38;5;241;43m*\u001b[39;49m\u001b[43mkwargs\u001b[49m\u001b[43m)\u001b[49m\n\u001b[0;32m    705\u001b[0m \u001b[38;5;66;03m# Total elapsed time of the request (approximately)\u001b[39;00m\n\u001b[0;32m    706\u001b[0m elapsed \u001b[38;5;241m=\u001b[39m preferred_clock() \u001b[38;5;241m-\u001b[39m start\n",
      "File \u001b[1;32m~\\AppData\\Roaming\\Python\\Python38\\site-packages\\requests\\adapters.py:486\u001b[0m, in \u001b[0;36mHTTPAdapter.send\u001b[1;34m(self, request, stream, timeout, verify, cert, proxies)\u001b[0m\n\u001b[0;32m    483\u001b[0m     timeout \u001b[38;5;241m=\u001b[39m TimeoutSauce(connect\u001b[38;5;241m=\u001b[39mtimeout, read\u001b[38;5;241m=\u001b[39mtimeout)\n\u001b[0;32m    485\u001b[0m \u001b[38;5;28;01mtry\u001b[39;00m:\n\u001b[1;32m--> 486\u001b[0m     resp \u001b[38;5;241m=\u001b[39m \u001b[43mconn\u001b[49m\u001b[38;5;241;43m.\u001b[39;49m\u001b[43murlopen\u001b[49m\u001b[43m(\u001b[49m\n\u001b[0;32m    487\u001b[0m \u001b[43m        \u001b[49m\u001b[43mmethod\u001b[49m\u001b[38;5;241;43m=\u001b[39;49m\u001b[43mrequest\u001b[49m\u001b[38;5;241;43m.\u001b[39;49m\u001b[43mmethod\u001b[49m\u001b[43m,\u001b[49m\n\u001b[0;32m    488\u001b[0m \u001b[43m        \u001b[49m\u001b[43murl\u001b[49m\u001b[38;5;241;43m=\u001b[39;49m\u001b[43murl\u001b[49m\u001b[43m,\u001b[49m\n\u001b[0;32m    489\u001b[0m \u001b[43m        \u001b[49m\u001b[43mbody\u001b[49m\u001b[38;5;241;43m=\u001b[39;49m\u001b[43mrequest\u001b[49m\u001b[38;5;241;43m.\u001b[39;49m\u001b[43mbody\u001b[49m\u001b[43m,\u001b[49m\n\u001b[0;32m    490\u001b[0m \u001b[43m        \u001b[49m\u001b[43mheaders\u001b[49m\u001b[38;5;241;43m=\u001b[39;49m\u001b[43mrequest\u001b[49m\u001b[38;5;241;43m.\u001b[39;49m\u001b[43mheaders\u001b[49m\u001b[43m,\u001b[49m\n\u001b[0;32m    491\u001b[0m \u001b[43m        \u001b[49m\u001b[43mredirect\u001b[49m\u001b[38;5;241;43m=\u001b[39;49m\u001b[38;5;28;43;01mFalse\u001b[39;49;00m\u001b[43m,\u001b[49m\n\u001b[0;32m    492\u001b[0m \u001b[43m        \u001b[49m\u001b[43massert_same_host\u001b[49m\u001b[38;5;241;43m=\u001b[39;49m\u001b[38;5;28;43;01mFalse\u001b[39;49;00m\u001b[43m,\u001b[49m\n\u001b[0;32m    493\u001b[0m \u001b[43m        \u001b[49m\u001b[43mpreload_content\u001b[49m\u001b[38;5;241;43m=\u001b[39;49m\u001b[38;5;28;43;01mFalse\u001b[39;49;00m\u001b[43m,\u001b[49m\n\u001b[0;32m    494\u001b[0m \u001b[43m        \u001b[49m\u001b[43mdecode_content\u001b[49m\u001b[38;5;241;43m=\u001b[39;49m\u001b[38;5;28;43;01mFalse\u001b[39;49;00m\u001b[43m,\u001b[49m\n\u001b[0;32m    495\u001b[0m \u001b[43m        \u001b[49m\u001b[43mretries\u001b[49m\u001b[38;5;241;43m=\u001b[39;49m\u001b[38;5;28;43mself\u001b[39;49m\u001b[38;5;241;43m.\u001b[39;49m\u001b[43mmax_retries\u001b[49m\u001b[43m,\u001b[49m\n\u001b[0;32m    496\u001b[0m \u001b[43m        \u001b[49m\u001b[43mtimeout\u001b[49m\u001b[38;5;241;43m=\u001b[39;49m\u001b[43mtimeout\u001b[49m\u001b[43m,\u001b[49m\n\u001b[0;32m    497\u001b[0m \u001b[43m        \u001b[49m\u001b[43mchunked\u001b[49m\u001b[38;5;241;43m=\u001b[39;49m\u001b[43mchunked\u001b[49m\u001b[43m,\u001b[49m\n\u001b[0;32m    498\u001b[0m \u001b[43m    \u001b[49m\u001b[43m)\u001b[49m\n\u001b[0;32m    500\u001b[0m \u001b[38;5;28;01mexcept\u001b[39;00m (ProtocolError, \u001b[38;5;167;01mOSError\u001b[39;00m) \u001b[38;5;28;01mas\u001b[39;00m err:\n\u001b[0;32m    501\u001b[0m     \u001b[38;5;28;01mraise\u001b[39;00m \u001b[38;5;167;01mConnectionError\u001b[39;00m(err, request\u001b[38;5;241m=\u001b[39mrequest)\n",
      "File \u001b[1;32m~\\AppData\\Roaming\\Python\\Python38\\site-packages\\urllib3\\connectionpool.py:789\u001b[0m, in \u001b[0;36mHTTPConnectionPool.urlopen\u001b[1;34m(self, method, url, body, headers, retries, redirect, assert_same_host, timeout, pool_timeout, release_conn, chunked, body_pos, preload_content, decode_content, **response_kw)\u001b[0m\n\u001b[0;32m    786\u001b[0m response_conn \u001b[38;5;241m=\u001b[39m conn \u001b[38;5;28;01mif\u001b[39;00m \u001b[38;5;129;01mnot\u001b[39;00m release_conn \u001b[38;5;28;01melse\u001b[39;00m \u001b[38;5;28;01mNone\u001b[39;00m\n\u001b[0;32m    788\u001b[0m \u001b[38;5;66;03m# Make the request on the HTTPConnection object\u001b[39;00m\n\u001b[1;32m--> 789\u001b[0m response \u001b[38;5;241m=\u001b[39m \u001b[38;5;28;43mself\u001b[39;49m\u001b[38;5;241;43m.\u001b[39;49m\u001b[43m_make_request\u001b[49m\u001b[43m(\u001b[49m\n\u001b[0;32m    790\u001b[0m \u001b[43m    \u001b[49m\u001b[43mconn\u001b[49m\u001b[43m,\u001b[49m\n\u001b[0;32m    791\u001b[0m \u001b[43m    \u001b[49m\u001b[43mmethod\u001b[49m\u001b[43m,\u001b[49m\n\u001b[0;32m    792\u001b[0m \u001b[43m    \u001b[49m\u001b[43murl\u001b[49m\u001b[43m,\u001b[49m\n\u001b[0;32m    793\u001b[0m \u001b[43m    \u001b[49m\u001b[43mtimeout\u001b[49m\u001b[38;5;241;43m=\u001b[39;49m\u001b[43mtimeout_obj\u001b[49m\u001b[43m,\u001b[49m\n\u001b[0;32m    794\u001b[0m \u001b[43m    \u001b[49m\u001b[43mbody\u001b[49m\u001b[38;5;241;43m=\u001b[39;49m\u001b[43mbody\u001b[49m\u001b[43m,\u001b[49m\n\u001b[0;32m    795\u001b[0m \u001b[43m    \u001b[49m\u001b[43mheaders\u001b[49m\u001b[38;5;241;43m=\u001b[39;49m\u001b[43mheaders\u001b[49m\u001b[43m,\u001b[49m\n\u001b[0;32m    796\u001b[0m \u001b[43m    \u001b[49m\u001b[43mchunked\u001b[49m\u001b[38;5;241;43m=\u001b[39;49m\u001b[43mchunked\u001b[49m\u001b[43m,\u001b[49m\n\u001b[0;32m    797\u001b[0m \u001b[43m    \u001b[49m\u001b[43mretries\u001b[49m\u001b[38;5;241;43m=\u001b[39;49m\u001b[43mretries\u001b[49m\u001b[43m,\u001b[49m\n\u001b[0;32m    798\u001b[0m \u001b[43m    \u001b[49m\u001b[43mresponse_conn\u001b[49m\u001b[38;5;241;43m=\u001b[39;49m\u001b[43mresponse_conn\u001b[49m\u001b[43m,\u001b[49m\n\u001b[0;32m    799\u001b[0m \u001b[43m    \u001b[49m\u001b[43mpreload_content\u001b[49m\u001b[38;5;241;43m=\u001b[39;49m\u001b[43mpreload_content\u001b[49m\u001b[43m,\u001b[49m\n\u001b[0;32m    800\u001b[0m \u001b[43m    \u001b[49m\u001b[43mdecode_content\u001b[49m\u001b[38;5;241;43m=\u001b[39;49m\u001b[43mdecode_content\u001b[49m\u001b[43m,\u001b[49m\n\u001b[0;32m    801\u001b[0m \u001b[43m    \u001b[49m\u001b[38;5;241;43m*\u001b[39;49m\u001b[38;5;241;43m*\u001b[39;49m\u001b[43mresponse_kw\u001b[49m\u001b[43m,\u001b[49m\n\u001b[0;32m    802\u001b[0m \u001b[43m\u001b[49m\u001b[43m)\u001b[49m\n\u001b[0;32m    804\u001b[0m \u001b[38;5;66;03m# Everything went great!\u001b[39;00m\n\u001b[0;32m    805\u001b[0m clean_exit \u001b[38;5;241m=\u001b[39m \u001b[38;5;28;01mTrue\u001b[39;00m\n",
      "File \u001b[1;32m~\\AppData\\Roaming\\Python\\Python38\\site-packages\\urllib3\\connectionpool.py:536\u001b[0m, in \u001b[0;36mHTTPConnectionPool._make_request\u001b[1;34m(self, conn, method, url, body, headers, retries, timeout, chunked, response_conn, preload_content, decode_content, enforce_content_length)\u001b[0m\n\u001b[0;32m    534\u001b[0m \u001b[38;5;66;03m# Receive the response from the server\u001b[39;00m\n\u001b[0;32m    535\u001b[0m \u001b[38;5;28;01mtry\u001b[39;00m:\n\u001b[1;32m--> 536\u001b[0m     response \u001b[38;5;241m=\u001b[39m \u001b[43mconn\u001b[49m\u001b[38;5;241;43m.\u001b[39;49m\u001b[43mgetresponse\u001b[49m\u001b[43m(\u001b[49m\u001b[43m)\u001b[49m\n\u001b[0;32m    537\u001b[0m \u001b[38;5;28;01mexcept\u001b[39;00m (BaseSSLError, \u001b[38;5;167;01mOSError\u001b[39;00m) \u001b[38;5;28;01mas\u001b[39;00m e:\n\u001b[0;32m    538\u001b[0m     \u001b[38;5;28mself\u001b[39m\u001b[38;5;241m.\u001b[39m_raise_timeout(err\u001b[38;5;241m=\u001b[39me, url\u001b[38;5;241m=\u001b[39murl, timeout_value\u001b[38;5;241m=\u001b[39mread_timeout)\n",
      "File \u001b[1;32m~\\AppData\\Roaming\\Python\\Python38\\site-packages\\urllib3\\connection.py:464\u001b[0m, in \u001b[0;36mHTTPConnection.getresponse\u001b[1;34m(self)\u001b[0m\n\u001b[0;32m    461\u001b[0m \u001b[38;5;28;01mfrom\u001b[39;00m \u001b[38;5;21;01m.\u001b[39;00m\u001b[38;5;21;01mresponse\u001b[39;00m \u001b[38;5;28;01mimport\u001b[39;00m HTTPResponse\n\u001b[0;32m    463\u001b[0m \u001b[38;5;66;03m# Get the response from http.client.HTTPConnection\u001b[39;00m\n\u001b[1;32m--> 464\u001b[0m httplib_response \u001b[38;5;241m=\u001b[39m \u001b[38;5;28;43msuper\u001b[39;49m\u001b[43m(\u001b[49m\u001b[43m)\u001b[49m\u001b[38;5;241;43m.\u001b[39;49m\u001b[43mgetresponse\u001b[49m\u001b[43m(\u001b[49m\u001b[43m)\u001b[49m\n\u001b[0;32m    466\u001b[0m \u001b[38;5;28;01mtry\u001b[39;00m:\n\u001b[0;32m    467\u001b[0m     assert_header_parsing(httplib_response\u001b[38;5;241m.\u001b[39mmsg)\n",
      "File \u001b[1;32mC:\\Program Files\\Python38\\lib\\http\\client.py:1322\u001b[0m, in \u001b[0;36mHTTPConnection.getresponse\u001b[1;34m(self)\u001b[0m\n\u001b[0;32m   1320\u001b[0m \u001b[38;5;28;01mtry\u001b[39;00m:\n\u001b[0;32m   1321\u001b[0m     \u001b[38;5;28;01mtry\u001b[39;00m:\n\u001b[1;32m-> 1322\u001b[0m         \u001b[43mresponse\u001b[49m\u001b[38;5;241;43m.\u001b[39;49m\u001b[43mbegin\u001b[49m\u001b[43m(\u001b[49m\u001b[43m)\u001b[49m\n\u001b[0;32m   1323\u001b[0m     \u001b[38;5;28;01mexcept\u001b[39;00m \u001b[38;5;167;01mConnectionError\u001b[39;00m:\n\u001b[0;32m   1324\u001b[0m         \u001b[38;5;28mself\u001b[39m\u001b[38;5;241m.\u001b[39mclose()\n",
      "File \u001b[1;32mC:\\Program Files\\Python38\\lib\\http\\client.py:303\u001b[0m, in \u001b[0;36mHTTPResponse.begin\u001b[1;34m(self)\u001b[0m\n\u001b[0;32m    301\u001b[0m \u001b[38;5;66;03m# read until we get a non-100 response\u001b[39;00m\n\u001b[0;32m    302\u001b[0m \u001b[38;5;28;01mwhile\u001b[39;00m \u001b[38;5;28;01mTrue\u001b[39;00m:\n\u001b[1;32m--> 303\u001b[0m     version, status, reason \u001b[38;5;241m=\u001b[39m \u001b[38;5;28;43mself\u001b[39;49m\u001b[38;5;241;43m.\u001b[39;49m\u001b[43m_read_status\u001b[49m\u001b[43m(\u001b[49m\u001b[43m)\u001b[49m\n\u001b[0;32m    304\u001b[0m     \u001b[38;5;28;01mif\u001b[39;00m status \u001b[38;5;241m!=\u001b[39m CONTINUE:\n\u001b[0;32m    305\u001b[0m         \u001b[38;5;28;01mbreak\u001b[39;00m\n",
      "File \u001b[1;32mC:\\Program Files\\Python38\\lib\\http\\client.py:264\u001b[0m, in \u001b[0;36mHTTPResponse._read_status\u001b[1;34m(self)\u001b[0m\n\u001b[0;32m    263\u001b[0m \u001b[38;5;28;01mdef\u001b[39;00m \u001b[38;5;21m_read_status\u001b[39m(\u001b[38;5;28mself\u001b[39m):\n\u001b[1;32m--> 264\u001b[0m     line \u001b[38;5;241m=\u001b[39m \u001b[38;5;28mstr\u001b[39m(\u001b[38;5;28;43mself\u001b[39;49m\u001b[38;5;241;43m.\u001b[39;49m\u001b[43mfp\u001b[49m\u001b[38;5;241;43m.\u001b[39;49m\u001b[43mreadline\u001b[49m\u001b[43m(\u001b[49m\u001b[43m_MAXLINE\u001b[49m\u001b[43m \u001b[49m\u001b[38;5;241;43m+\u001b[39;49m\u001b[43m \u001b[49m\u001b[38;5;241;43m1\u001b[39;49m\u001b[43m)\u001b[49m, \u001b[38;5;124m\"\u001b[39m\u001b[38;5;124miso-8859-1\u001b[39m\u001b[38;5;124m\"\u001b[39m)\n\u001b[0;32m    265\u001b[0m     \u001b[38;5;28;01mif\u001b[39;00m \u001b[38;5;28mlen\u001b[39m(line) \u001b[38;5;241m>\u001b[39m _MAXLINE:\n\u001b[0;32m    266\u001b[0m         \u001b[38;5;28;01mraise\u001b[39;00m LineTooLong(\u001b[38;5;124m\"\u001b[39m\u001b[38;5;124mstatus line\u001b[39m\u001b[38;5;124m\"\u001b[39m)\n",
      "File \u001b[1;32mC:\\Program Files\\Python38\\lib\\socket.py:669\u001b[0m, in \u001b[0;36mSocketIO.readinto\u001b[1;34m(self, b)\u001b[0m\n\u001b[0;32m    667\u001b[0m \u001b[38;5;28;01mwhile\u001b[39;00m \u001b[38;5;28;01mTrue\u001b[39;00m:\n\u001b[0;32m    668\u001b[0m     \u001b[38;5;28;01mtry\u001b[39;00m:\n\u001b[1;32m--> 669\u001b[0m         \u001b[38;5;28;01mreturn\u001b[39;00m \u001b[38;5;28;43mself\u001b[39;49m\u001b[38;5;241;43m.\u001b[39;49m\u001b[43m_sock\u001b[49m\u001b[38;5;241;43m.\u001b[39;49m\u001b[43mrecv_into\u001b[49m\u001b[43m(\u001b[49m\u001b[43mb\u001b[49m\u001b[43m)\u001b[49m\n\u001b[0;32m    670\u001b[0m     \u001b[38;5;28;01mexcept\u001b[39;00m timeout:\n\u001b[0;32m    671\u001b[0m         \u001b[38;5;28mself\u001b[39m\u001b[38;5;241m.\u001b[39m_timeout_occurred \u001b[38;5;241m=\u001b[39m \u001b[38;5;28;01mTrue\u001b[39;00m\n",
      "File \u001b[1;32mC:\\Program Files\\Python38\\lib\\ssl.py:1241\u001b[0m, in \u001b[0;36mSSLSocket.recv_into\u001b[1;34m(self, buffer, nbytes, flags)\u001b[0m\n\u001b[0;32m   1237\u001b[0m     \u001b[38;5;28;01mif\u001b[39;00m flags \u001b[38;5;241m!=\u001b[39m \u001b[38;5;241m0\u001b[39m:\n\u001b[0;32m   1238\u001b[0m         \u001b[38;5;28;01mraise\u001b[39;00m \u001b[38;5;167;01mValueError\u001b[39;00m(\n\u001b[0;32m   1239\u001b[0m           \u001b[38;5;124m\"\u001b[39m\u001b[38;5;124mnon-zero flags not allowed in calls to recv_into() on \u001b[39m\u001b[38;5;132;01m%s\u001b[39;00m\u001b[38;5;124m\"\u001b[39m \u001b[38;5;241m%\u001b[39m\n\u001b[0;32m   1240\u001b[0m           \u001b[38;5;28mself\u001b[39m\u001b[38;5;241m.\u001b[39m\u001b[38;5;18m__class__\u001b[39m)\n\u001b[1;32m-> 1241\u001b[0m     \u001b[38;5;28;01mreturn\u001b[39;00m \u001b[38;5;28;43mself\u001b[39;49m\u001b[38;5;241;43m.\u001b[39;49m\u001b[43mread\u001b[49m\u001b[43m(\u001b[49m\u001b[43mnbytes\u001b[49m\u001b[43m,\u001b[49m\u001b[43m \u001b[49m\u001b[43mbuffer\u001b[49m\u001b[43m)\u001b[49m\n\u001b[0;32m   1242\u001b[0m \u001b[38;5;28;01melse\u001b[39;00m:\n\u001b[0;32m   1243\u001b[0m     \u001b[38;5;28;01mreturn\u001b[39;00m \u001b[38;5;28msuper\u001b[39m()\u001b[38;5;241m.\u001b[39mrecv_into(buffer, nbytes, flags)\n",
      "File \u001b[1;32mC:\\Program Files\\Python38\\lib\\ssl.py:1099\u001b[0m, in \u001b[0;36mSSLSocket.read\u001b[1;34m(self, len, buffer)\u001b[0m\n\u001b[0;32m   1097\u001b[0m \u001b[38;5;28;01mtry\u001b[39;00m:\n\u001b[0;32m   1098\u001b[0m     \u001b[38;5;28;01mif\u001b[39;00m buffer \u001b[38;5;129;01mis\u001b[39;00m \u001b[38;5;129;01mnot\u001b[39;00m \u001b[38;5;28;01mNone\u001b[39;00m:\n\u001b[1;32m-> 1099\u001b[0m         \u001b[38;5;28;01mreturn\u001b[39;00m \u001b[38;5;28;43mself\u001b[39;49m\u001b[38;5;241;43m.\u001b[39;49m\u001b[43m_sslobj\u001b[49m\u001b[38;5;241;43m.\u001b[39;49m\u001b[43mread\u001b[49m\u001b[43m(\u001b[49m\u001b[38;5;28;43mlen\u001b[39;49m\u001b[43m,\u001b[49m\u001b[43m \u001b[49m\u001b[43mbuffer\u001b[49m\u001b[43m)\u001b[49m\n\u001b[0;32m   1100\u001b[0m     \u001b[38;5;28;01melse\u001b[39;00m:\n\u001b[0;32m   1101\u001b[0m         \u001b[38;5;28;01mreturn\u001b[39;00m \u001b[38;5;28mself\u001b[39m\u001b[38;5;241m.\u001b[39m_sslobj\u001b[38;5;241m.\u001b[39mread(\u001b[38;5;28mlen\u001b[39m)\n",
      "\u001b[1;31mKeyboardInterrupt\u001b[0m: "
     ]
    }
   ],
   "source": [
    "crawl_website(\"https://www.nation.co.ke\", 10)"
   ]
  },
  {
   "cell_type": "code",
   "execution_count": 14,
   "id": "2897ea6b-8308-4146-bd29-077d67eefd1c",
   "metadata": {},
   "outputs": [],
   "source": [
    "end = time.time()"
   ]
  },
  {
   "cell_type": "code",
   "execution_count": 15,
   "id": "8fb636e0-aada-44bb-a3e4-bbc605b0c1fd",
   "metadata": {},
   "outputs": [
    {
     "name": "stdout",
     "output_type": "stream",
     "text": [
      "334.07860922813416\n"
     ]
    }
   ],
   "source": [
    "print(end - start)"
   ]
  },
  {
   "cell_type": "code",
   "execution_count": 16,
   "id": "8824313e-02c7-4375-9a3a-d621b6c36cf0",
   "metadata": {},
   "outputs": [],
   "source": [
    "df = pd.DataFrame({\"links\":links[0:20], \"paragraphs\":paragraphs[0:20], \"time\": times[0:20], \"base_urls\":bases[0:20],  \"img_urls\":images[0:20]})"
   ]
  },
  {
   "cell_type": "code",
   "execution_count": 23,
   "id": "f2bae76f-5e04-41c4-a3d7-ff8c4e14bd4b",
   "metadata": {},
   "outputs": [],
   "source": [
    "df.to_parquet(\"../data/nation.parquet\")"
   ]
  },
  {
   "cell_type": "code",
   "execution_count": 24,
   "id": "b01d7c9f-f93c-4836-b1c9-7000ab12ea69",
   "metadata": {},
   "outputs": [],
   "source": [
    "df.to_csv(\"../data/nation.csv\")"
   ]
  },
  {
   "cell_type": "code",
   "execution_count": null,
   "id": "41d3de8a-fd08-46d0-9ded-85ce5836fb89",
   "metadata": {},
   "outputs": [],
   "source": []
  },
  {
   "cell_type": "code",
   "execution_count": null,
   "id": "a5b06681-9295-446e-b2b3-296d0709e4e2",
   "metadata": {},
   "outputs": [],
   "source": []
  }
 ],
 "metadata": {
  "kernelspec": {
   "display_name": "Python 3 (ipykernel)",
   "language": "python",
   "name": "python3"
  },
  "language_info": {
   "codemirror_mode": {
    "name": "ipython",
    "version": 3
   },
   "file_extension": ".py",
   "mimetype": "text/x-python",
   "name": "python",
   "nbconvert_exporter": "python",
   "pygments_lexer": "ipython3",
   "version": "3.8.0"
  }
 },
 "nbformat": 4,
 "nbformat_minor": 5
}
