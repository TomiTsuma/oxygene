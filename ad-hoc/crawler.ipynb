{
 "cells": [
  {
   "cell_type": "code",
   "execution_count": 1,
   "id": "98936378-95aa-4210-9ae7-385f8c5d126e",
   "metadata": {},
   "outputs": [],
   "source": [
    "import requests\n",
    "from bs4 import BeautifulSoup\n",
    "from urllib.parse import urljoin\n",
    "import time\n",
    "import re\n",
    "import pandas as pd"
   ]
  },
  {
   "cell_type": "code",
   "execution_count": 2,
   "id": "db95e1c3-c138-4e89-b96e-b343efd929cb",
   "metadata": {},
   "outputs": [],
   "source": [
    "import mechanize\n",
    "from bs4 import BeautifulSoup\n",
    "import urllib\n",
    "from http import cookiejar\n"
   ]
  },
  {
   "cell_type": "code",
   "execution_count": null,
   "id": "59b1a993-a4ad-432b-92b9-45883a18552b",
   "metadata": {},
   "outputs": [],
   "source": [
    "cj = cookiejar.CookieJar()\n",
    "br = mechanize.Browser()\n",
    "br.set_handle_robots(False)\n",
    "br.set_cookiejar(cj)\n",
    "br.addheaders = [('User-agent', 'Mozilla/5.0 (X11; U; Linux i686; en-US; rv:1.9.0.1) Gecko/2008071615 Fedora/3.0.1-1.fc9 Firefox/3.0.1')]\n",
    "\n",
    "br.open(\"https://nation.africa/kenya/account/signin#sign-in\")\n",
    "\n",
    "br.select_form(nr=0)\n",
    "br.form['email'] = 'tommytsuma7@gmail.com'\n",
    "br.form['password'] = 'Tobirama13@'\n",
    "br.submit()\n",
    "\n"
   ]
  },
  {
   "cell_type": "code",
   "execution_count": 3,
   "id": "f1692ffb-0001-4d44-b9f0-01b98bab796d",
   "metadata": {},
   "outputs": [],
   "source": [
    "df = pd.DataFrame()"
   ]
  },
  {
   "cell_type": "code",
   "execution_count": 4,
   "id": "5b08a6e1-d409-4f31-8a38-ac63b0c86b0f",
   "metadata": {},
   "outputs": [],
   "source": [
    "active =[]\n",
    "links = []\n",
    "paragraphs = []\n",
    "times = []\n",
    "bases = []\n",
    "images = []"
   ]
  },
  {
   "cell_type": "code",
   "execution_count": 5,
   "id": "804b3675-1d7f-4d12-84f9-4997b592d79a",
   "metadata": {},
   "outputs": [],
   "source": [
    "\n",
    "def is_active_url(url):\n",
    "    \"\"\"\n",
    "    Check if the URL is active by sending a HEAD request.\n",
    "    \"\"\"\n",
    "    try:\n",
    "        response = requests.head(url, allow_redirects=True, timeout=5)\n",
    "        return response.status_code == 200\n",
    "    except requests.RequestException:\n",
    "        return False\n",
    "\n"
   ]
  },
  {
   "cell_type": "code",
   "execution_count": 6,
   "id": "11a66f37-29f3-4a35-8fc9-c18d12e98ff0",
   "metadata": {},
   "outputs": [],
   "source": [
    "def find_all_links(url, soup):\n",
    "    \"\"\"\n",
    "    Find all the hyperlinks in the current page.\n",
    "    \"\"\"\n",
    "    links = set()\n",
    "    for link in soup.find_all('a', href=True):\n",
    "        full_url = urljoin(url, link['href'])\n",
    "        if url in full_url:  # Only consider URLs in the same domain\n",
    "            links.add(full_url)\n",
    "    return links\n",
    "\n"
   ]
  },
  {
   "cell_type": "code",
   "execution_count": null,
   "id": "2d3a3a59-5186-401b-bd89-9722457dd06a",
   "metadata": {},
   "outputs": [],
   "source": []
  },
  {
   "cell_type": "code",
   "execution_count": 7,
   "id": "6ae0b543-2904-4181-b6f9-c2b5b3453aac",
   "metadata": {},
   "outputs": [],
   "source": [
    "def getPageTime(url):\n",
    "    response = requests.get(url)\n",
    "    html_content = response.text\n",
    "    \n",
    "    # Parse the HTML with BeautifulSoup\n",
    "    soup = BeautifulSoup(html_content, 'html.parser')\n",
    "    \n",
    "    # Check for meta tags related to modification date\n",
    "    last_modified = soup.find('meta', {'http-equiv': 'last-modified'})\n",
    "    date_meta = soup.find('meta', {'name': 'date'})\n",
    "    \n",
    "    if last_modified:\n",
    "        return last_modified.get('content')\n",
    "    elif date_meta:\n",
    "        return date_meta.get('content')\n",
    "    else:\n",
    "        return None\n"
   ]
  },
  {
   "cell_type": "code",
   "execution_count": 8,
   "id": "22e62507-bd6e-463d-b859-a51b62525381",
   "metadata": {},
   "outputs": [],
   "source": [
    "def extract_base_url(url):\n",
    "    # Regular expression pattern for extracting base URL\n",
    "    pattern = re.compile(r'^(https?:\\/\\/[^\\/]+)')\n",
    "    \n",
    "    # Search for the pattern in the provided URL\n",
    "    match = pattern.search(url)\n",
    "    \n",
    "    # Return the base URL if a match is found, otherwise None\n",
    "    return match.group(1) if match else None"
   ]
  },
  {
   "cell_type": "code",
   "execution_count": 9,
   "id": "b0b93245-4bbc-41cd-9036-166093f57fc8",
   "metadata": {},
   "outputs": [],
   "source": [
    "def getPageText(url):    \n",
    "    response = requests.get(url)\n",
    "    html_content = response.text\n",
    "    \n",
    "    # Step 2: Parse the HTML with BeautifulSoup\n",
    "    soup = BeautifulSoup(html_content, 'html.parser')\n",
    "    \n",
    "    # Step 3: Remove Unwanted Tags\n",
    "    # Find and remove <header>, <footer>, and <nav> tags\n",
    "    for tag_name in ['header', 'footer', 'nav']:\n",
    "        for element in soup.find_all(tag_name):\n",
    "            element.decompose()  # Removes the tag and its content\n",
    "    \n",
    "    # Step 4: Extract <p> Tags\n",
    "    # Find all <p> tags\n",
    "    paragraphs = soup.find_all('p')\n",
    "    \n",
    "    return \"\\n\".join([i.get_text(strip=True) for i in paragraphs])"
   ]
  },
  {
   "cell_type": "code",
   "execution_count": 10,
   "id": "e92a4eec-0812-4976-9d8a-facfcfca1ad3",
   "metadata": {},
   "outputs": [],
   "source": [
    "def getImages(url):\n",
    "    response = requests.get(url)\n",
    "    \n",
    "    # Check if the request was successful (status code 200)\n",
    "    if response.status_code == 200:\n",
    "        # Parse the HTML content using BeautifulSoup\n",
    "        soup = BeautifulSoup(response.text, 'html.parser')\n",
    "    \n",
    "        # Find all <img> tags on the page\n",
    "        img_tags = soup.find_all('img')\n",
    "    \n",
    "        # Extract the URLs of the images\n",
    "        img_urls = []\n",
    "        for img in img_tags:\n",
    "            img_url = img.get('src')\n",
    "            # Handle relative URLs by converting them to absolute URLs\n",
    "            img_url = urljoin(url, img_url)\n",
    "            img_urls.append(img_url)\n",
    "    \n",
    "        # Print the collected image URLs\n",
    "        print(f\"Found {len(img_urls)} images:\")\n",
    "        return img_urls\n",
    "    else:\n",
    "        print(f\"Failed to retrieve webpage. Status code: {response.status_code}\")\n",
    "        return []"
   ]
  },
  {
   "cell_type": "code",
   "execution_count": null,
   "id": "15c97a6f-ef66-49c4-981b-714648dad451",
   "metadata": {},
   "outputs": [],
   "source": []
  },
  {
   "cell_type": "code",
   "execution_count": 11,
   "id": "948101f2-cb4c-40e1-a4cd-0065009d44a2",
   "metadata": {},
   "outputs": [],
   "source": [
    "visited_urls = set()"
   ]
  },
  {
   "cell_type": "code",
   "execution_count": 12,
   "id": "2152cdee-fc25-4ba2-984d-4065e716f09f",
   "metadata": {},
   "outputs": [],
   "source": [
    "start = time.time()"
   ]
  },
  {
   "cell_type": "code",
   "execution_count": 13,
   "id": "8aaac865-de2c-4a8c-8b79-bbbc3eeff4f0",
   "metadata": {},
   "outputs": [],
   "source": [
    "def crawl_website(base_url):\n",
    "    global visited_urls, active, links, paragraphs, times, bases, images\n",
    "    try:\n",
    "        response = requests.get(base_url, timeout=5)\n",
    "        if response.status_code == 200:\n",
    "            print(f\"Active URL: {base_url}\")\n",
    "            soup = BeautifulSoup(response.content, 'html.parser')\n",
    "            current_links = find_all_links(base_url, soup)\n",
    "            visited_urls.add(base_url)\n",
    "            paragraphs.append(getPageText(base_url))\n",
    "            links.append(base_url)\n",
    "            times.append(getPageTime(base_url))\n",
    "            bases.append(extract_base_url(base_url))\n",
    "            images.append(getImages(base_url))\n",
    "        else:\n",
    "            print(f\"Inactive URL: {base_url} - Status Code: {response.status_code}\")\n",
    "    except requests.RequestException as e:\n",
    "        print(f\"Failed to fetch {base_url}: {e}\")\n",
    "\n",
    "    # for i in [ j for j in current_links if j not in visited_urls]:\n",
    "    #     if(is_active_url(i)):\n",
    "    #         # crawl_website(i)\n",
    "                \n",
    "    if(len(visited_urls)%100 == 0):\n",
    "            pd.DataFrame({\"links\":links, \"paragraphs\":paragraphs, \"time\": times, \"base_urls\":bases,  \"img_urls\":images}).to_csv(\"./data/scraped.csv\")\n",
    "   "
   ]
  },
  {
   "cell_type": "code",
   "execution_count": null,
   "id": "8a11afe0-2737-452d-8884-6739752f6d1c",
   "metadata": {},
   "outputs": [],
   "source": []
  },
  {
   "cell_type": "code",
   "execution_count": 14,
   "id": "acedf688-2e29-4a23-bcec-a48e2f8c6c6d",
   "metadata": {
    "scrolled": true
   },
   "outputs": [
    {
     "name": "stdout",
     "output_type": "stream",
     "text": [
      "Active URL: https://nation.africa/kenya/news/equity-bank-heist-main-suspect-generous-but-secretive--4758616#story\n",
      "Found 12 images:\n"
     ]
    }
   ],
   "source": [
    "crawl_website(\"https://nation.africa/kenya/news/equity-bank-heist-main-suspect-generous-but-secretive--4758616#story\")"
   ]
  },
  {
   "cell_type": "code",
   "execution_count": 15,
   "id": "ecf68ed7-c10e-4e76-be0a-c0282fd6f16b",
   "metadata": {},
   "outputs": [
    {
     "data": {
      "text/plain": [
       "[\"Hello\\nYour subscription is almost coming to an end. Don’t miss out on the great content on Nation.Africa\\nReady to continue your informative journey with us?\\nHello\\nYour premium access has ended, but the best of Nation.Africa is still within reach. Renew now to unlock exclusive stories and in-depth features.\\nReclaim your full access. Click below to renew.\\nSubscribe fora month to get full access\\nEquity Bank Manager David Machiri Kimani.\\nByNyaboga Kiage\\n\\nIt’s been one month since Mr David Machiri Kimani - the prime suspect in Equity Bank’s Sh1.5 billion heist - was abducted by armed gunmen from his rented house in Thogoto, Kiambu.\\nMr Machiri, 39, Equity Bank’s manager at the Group Processing Center, Salary Processing Unit, whose credentials detectives say was used to steal Sh1,545,887,140.49, has never been seen since the Sunday, August 11 abduction.\\nAt Madukani, Thogoto under the overpass towards Mutarakwa, is a rough road that leads to an apartment painted purple with a black steel gate.\\nOn a visit on Wednesday to the address where the banker lived in the rental house with his wife and a child, according to neighbours, Nation learnt after he was taken away, no one has been to the house.\\n“Hata huyo madam me sijawaimuona tena kutoka hiyo siku(I have never seen his madam at the house after the incident took place),” a neighbour toldNation.Africaon Wednesday.\\nAccording to neighbours, Mr Machiri used to live alone but at some point, he brought the woman who was usually seen with a child inside her car as she drove within Thogoto Town.\\nMr Machiri had lived in Thogoto Town since 2021 without incident.\\nThat however changed that fateful Sunday night when a convoy of five strange vehicles drove into the neighbourhood.\\nAll three Subaru Outbacks, a Landrover Defender and a Toyota Land Cruiser had no number plates.\\nRead:Inside Sh1.5bn Equity Bank heist\\nOne of the vehicles was parked outside the African Independent Pentecostal Church of Africa (AIPCA) St Matthew Thogoto Church.\\nThe others were parked strategically around where the banker resided.\\nAt about 11:40 pm the armed men stormed his house and led him to one of the cars.\\n“When we intervened to know who those people were, they identified themselves as police officers,” recalled a neighbour. They never disclosed where they were taking him.\\nOne of the abductors was spotted carting away a laptop. The operation took no more than three minutes. The vehicles sped away.\\nThat same night, another squad of armed men raided the home of the banker’s father, Joseph Kimari Machiri, 60, at Kairi village, Mathioya Constituency in Murang'a.\\nIt was only untilNationbroke the story of the Sh1.5 billion bank heist on Thursday, August 15, in which police named the banker as a suspect, that his neighbours at Thogoto made sense of the night raid.\\nAlthough he had been arrested and charged in court on July 12, a day after the theft was reported, the proceedings had been secret and he had been released on bail without the matter becoming public knowledge after the abduction weeks later.\\nOne of his friends who used to hang out with him at a local joint said the banker was generous but secretive.\\n“He regularly bought us drinks and food. He was a good friend,” recounted a friend who declined to be identified for the fear the issue has instilled in locals.\\nRead:Equity Bank heist: Blame game on Kimani's whereabouts plays out in court\\nThe man said at times, Machiri would purchase drinks from a wines and spirits outlet on Sundays and park his vehicle in an open field located along the busy Northern Bypass. They would enjoy drinks there.\\n“We would sit on the grass and he would share with us his drinks,” added the friend. This was mostly in the afternoons after he had returned from church with his family.\\nHowever, according to the friend, Mr Machiri was guarded and he is not aware of anyone within his circle of friends who he ever invited to his house.\\nAnother friend said Mr Machiri did not like staying out at night in a club. “He would tell us that he would rather go home and watch football,” he said.\\nThe banker’s father, however, was freed on Tuesday, August 13, two days after his abduction.\\nBut his captors warned him to never speak to the media or divulge details of his ordeal in captivity.\\nWhenNation.Africacontacted him last week, he said: “I am glad to be alive and okay. I just don't have much to say but we appreciate the concern shown to me and my family.”\\nWhen asked to give details of what he went through while in the hands of his abductors, Mr Kimari declined to revisit his ordeal.\\n“When the right time comes, we will call you and talk about it. As we talk, I am travelling to Nairobi to run a few errands so I cannot talk much,” he added.\\nRead:Inside Equity Bank’s three-hour gun drama in Kisumu\\nA family source toldNation.Africathat he was brought back home at 3 am in a convoy of more than five Subaru cars which are mostly used by officers attached to the Directorate of Criminal Investigations (DCI).\\nThe source said that the man was warned not to share any information with the media or give details of what happened to him while in captivity.\\n“He told us that he was taken to a forest which he does not know its location and he could hear lions roaring and hyenas laughing,” said the family source, adding that the experience he went through has affected him.\\nFor days until he spoke toNation.Africato confirm he was free, the family had opted to comply with the orders citing the threats.\\nMr Machiri was first arrested in July and charged in court with defrauding Equity Bank Sh1.5 billion. He was released on bail and subsequently abducted on August 11.\\nWhen the alleged fraud took place on July 10, he was on leave but the bank reported that it was his credentials that were used to move the cash to various accounts in 47 transactions.\\nAccording to court papers, on July 10, the internal control department detected a flurry of suspect transactions from the bank’s salaries account.\\nAccording to the DCI, there were 47 withdrawals from the bank’s payroll account and the funds were quickly transferred to multiple accounts held in other banks.\\nRead:Families’ agony over abducted relatives as police defy courts\\nAll the transactions lacked corresponding credits from the source entities or individuals, which raised suspicion from the internal controls team reviewing the transactions for confirmation details.\\nAfter all the transactions were successfully processed, Sh1.5 billion had been funnelled out of Equity Bank.\\nOn July 11, the bank through the Head of Security Kevin Mwangi reported the matter to the Banking Fraud Investigation Unit at the DCI.\\nMachiri, the manager whose electronic footprints were noted in the transactions, was summoned to record statements with the police.\\nRead:Where are they? Tales of anti-Ruto protesters arrested by police not to be seen again\\nMachiri was on leave when the suspicious activities were first detected, according to an affidavit filed at the Milimani Law court on July 12 by the investigating officer, Inspector Boniface Maina, attached to the DCI Banking Fraud Investigations Unit.\\nThe DCI wanted the court’s permission to detain Machiri for 21 days to allow further investigations.\\nHowever, the court declined the application and freed Machiri on bond.\\nHe was subsequently abducted by hooded men from his house in Thogoto, Kiambu.\\n\\n[email\\xa0protected]\\nMr Machiri was first arrested in July and charged in court.\\nPay roll robbery reported to have coincided with a separate high profile bank fraud.\\nIn the aftermath of the Gen-Z protests, lives were lost and some young people simply vanished.\\nPresident Ruto maintains that there were no abductions of citizens by security agencies during anti-government demos.\\nWe come to you.We are always looking for ways to improve our stories. Let us know what you liked and what we can improve on.\\nIf you have an Ad-blocker please disable it and reload the page or try again later.\\nIt's free!\\n\"]"
      ]
     },
     "execution_count": 15,
     "metadata": {},
     "output_type": "execute_result"
    }
   ],
   "source": [
    "paragraphs"
   ]
  },
  {
   "cell_type": "code",
   "execution_count": null,
   "id": "2897ea6b-8308-4146-bd29-077d67eefd1c",
   "metadata": {},
   "outputs": [],
   "source": [
    "end = time.time()"
   ]
  },
  {
   "cell_type": "code",
   "execution_count": null,
   "id": "e148580c-d962-45eb-80d6-ed0a1b1d0a41",
   "metadata": {},
   "outputs": [],
   "source": []
  },
  {
   "cell_type": "code",
   "execution_count": null,
   "id": "8fb636e0-aada-44bb-a3e4-bbc605b0c1fd",
   "metadata": {},
   "outputs": [],
   "source": [
    "print(end - start)"
   ]
  },
  {
   "cell_type": "code",
   "execution_count": null,
   "id": "8824313e-02c7-4375-9a3a-d621b6c36cf0",
   "metadata": {},
   "outputs": [],
   "source": [
    "df = pd.DataFrame({\"links\":links[0:20], \"paragraphs\":paragraphs[0:20], \"time\": times[0:20], \"base_urls\":bases[0:20],  \"img_urls\":images[0:20]})"
   ]
  },
  {
   "cell_type": "code",
   "execution_count": null,
   "id": "f2bae76f-5e04-41c4-a3d7-ff8c4e14bd4b",
   "metadata": {},
   "outputs": [],
   "source": [
    "df.to_parquet(\"../data/nation.parquet\")"
   ]
  },
  {
   "cell_type": "code",
   "execution_count": null,
   "id": "b01d7c9f-f93c-4836-b1c9-7000ab12ea69",
   "metadata": {},
   "outputs": [],
   "source": [
    "df.to_csv(\"../data/nation.csv\")"
   ]
  },
  {
   "cell_type": "code",
   "execution_count": null,
   "id": "41d3de8a-fd08-46d0-9ded-85ce5836fb89",
   "metadata": {},
   "outputs": [],
   "source": [
    "df"
   ]
  },
  {
   "cell_type": "code",
   "execution_count": null,
   "id": "a5b06681-9295-446e-b2b3-296d0709e4e2",
   "metadata": {},
   "outputs": [],
   "source": []
  }
 ],
 "metadata": {
  "kernelspec": {
   "display_name": "Python 3 (ipykernel)",
   "language": "python",
   "name": "python3"
  },
  "language_info": {
   "codemirror_mode": {
    "name": "ipython",
    "version": 3
   },
   "file_extension": ".py",
   "mimetype": "text/x-python",
   "name": "python",
   "nbconvert_exporter": "python",
   "pygments_lexer": "ipython3",
   "version": "3.8.0"
  }
 },
 "nbformat": 4,
 "nbformat_minor": 5
}
