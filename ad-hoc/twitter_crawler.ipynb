{
 "cells": [
  {
   "cell_type": "code",
   "execution_count": 1,
   "id": "75f57977-eeda-4c61-ada5-71b7af28d870",
   "metadata": {},
   "outputs": [
    {
     "name": "stderr",
     "output_type": "stream",
     "text": [
      "C:\\Users\\tommy\\AppData\\Roaming\\Python\\Python38\\site-packages\\scipy\\__init__.py:173: UserWarning: A NumPy version >=1.19.5 and <1.27.0 is required for this version of SciPy (detected version 1.19.2)\n",
      "  warnings.warn(f\"A NumPy version >={np_minversion} and <{np_maxversion}\"\n"
     ]
    }
   ],
   "source": [
    "from selenium import webdriver\n",
    "from selenium.webdriver.common.by import By\n",
    "from selenium.webdriver.common.keys import Keys\n",
    "from selenium.webdriver.chrome.service import Service\n",
    "import time\n",
    "import json\n",
    "import tensorflow as tf\n",
    "import sys\n"
   ]
  },
  {
   "cell_type": "code",
   "execution_count": 2,
   "id": "c2d97715-f05b-4a99-b4c1-f7b2729924b3",
   "metadata": {},
   "outputs": [],
   "source": [
    "# Set up the webdriver (make sure the path to your chromedriver is correct)\n",
    "driver_path = Service('D://CoreOutline/scim/ad-hoc/chromedriver-win64/chromedriver.exe')\n",
    "driver = webdriver.Chrome(service=driver_path)\n",
    "\n",
    "# Open the Beer Game website\n",
    "driver.get(\"https:/x.com/\")\n",
    "\n"
   ]
  },
  {
   "cell_type": "code",
   "execution_count": 7,
   "id": "995e3414-f555-44e2-a7d7-b3288c4243ef",
   "metadata": {},
   "outputs": [
    {
     "name": "stdout",
     "output_type": "stream",
     "text": [
      "{'commentsCount': '1.6K', 'continuation': 'Eg0SCzFneGY2Zmxudk5BGAYy4gIKuAJnZXRfcmFua2VkX3N0cmVhbXMtLUNxWUJDSUFFRlJlMzBUZ2Ftd0VLbGdFSTJGOFFnQVFZQnlLTEFadDQ0a2hFUTJIeHZvQjFXbElVNVFBTEtaRmtGd2QtVXFiRVE4RjlUd0wtdER3Q1ZtSmdvbzloVGJrR0dKUXY3S0tfSFhiNmxQYzVqNGcwRFdPTFJMVVFVZTBrNEdsVU5xYkxMMGFadVo2MllQN2VWX2tNb2JnR05XazV3bzF3WHV2Y3lneWpXbk5ubTc3U1VXY2FVc1c3NXdfUk9FMVA4djgxUkNaWUh4WXBWSkdKTG1LSkEtczJRd0FRRkJJRkNJa2dHQUFTQlFpb0lCZ0FFZ1VJaUNBWUFCSUhDSWNnRUFFWUFCSUhDSVVnRUFvWUFSSUhDSVFnRUJNWUFSZ0EiESILMWd4ZjZmbG52TkEwAHgBKBRCEGNvbW1lbnRzLXNlY3Rpb24%3D.CgtsZHYybngwUFdzVSjh8eq2BjIKCgJERRIEEgAgYQ%3D%3D', 'data': [{'commentId': 'Ugwq5-FSu3zt7iVrMyp4AaABAg', 'authorText': '@allaboutroofing2', 'authorChannelId': 'UC1oyzRrNZ4YkJL3EufJkZEw', 'authorThumbnail': [{'url': 'https://yt3.ggpht.com/8NSo6gLAguY4wg6JxGRIQqDPIK5MkhlVspS23x2cStAfuU9zRfrcADE5QqwJTcXiTNCzAVNJnQ=s88-c-k-c0x00ffffff-no-rj', 'width': 88, 'height': 88}], 'textDisplay': 'Costco would sell a lot more large screen 4K TVs  if they had this playing instead of those stupid parrots and lizards.  THIS is why we have 4K tv.', 'publishedTimeText': '6 years ago', 'publishDate': '2018-09-06', 'publishedAt': '2018-09-06T00:00:00Z', 'likesCount': '2.3K', 'replyCount': '20', 'replyToken': 'Eg0SCzFneGY2Zmxudk5BGAYygwEaUBIaVWd3cTUtRlN1M3p0N2lWck15cDRBYUFCQWciAggAKhhVQzJzejRVVWdnbWVVdXRzdnpKV3g3d3cyCzFneGY2Zmxudk5BQAFICoIBAggBQi9jb21tZW50LXJlcGxpZXMtaXRlbS1VZ3dxNS1GU3UzenQ3aVZyTXlwNEFhQUJBZw%3D%3D', 'authorIsChannelOwner': False, 'isVerified': False, 'isArtist': False, 'isCreator': False}, {'commentId': 'Ugyo69dfDTfBIJSKG_14AaABAg', 'authorText': '@NeonblueIndustries', 'authorChannelId': 'UC_ujj6ZV9SbD2rjs5-tl1iQ', 'authorThumbnail': [{'url': 'https://yt3.ggpht.com/ytc/AIdro_meiuSsZA9RDTHfTV06H0ISC2QZk7Ba_DNsvwh1GRc=s88-c-k-c0x00ffffff-no-rj', 'width': 88, 'height': 88}], 'textDisplay': 'One of the greatest works of cinematography in existence.', 'publishedTimeText': '5 years ago', 'publishDate': '2019-09-06', 'publishedAt': '2019-09-06T00:00:00Z', 'likesCount': '141', 'replyCount': '0', 'authorIsChannelOwner': False, 'isVerified': False, 'isArtist': False, 'isCreator': False}, {'commentId': 'Ugy1o7PwhHjzF9WFfmN4AaABAg', 'authorText': '@arafs4359', 'authorChannelId': 'UCvygPMeM07gNBwnyqI5PmEg', 'authorThumbnail': [{'url': 'https://yt3.ggpht.com/ytc/AIdro_kE7LkmqqvdddjNBeZoJVRAJOGaqqnBd-PGWRykHG1qMFHu=s88-c-k-c0x00ffffff-no-rj', 'width': 88, 'height': 88}], 'textDisplay': 'Once upon a time this was one of the few videos to test 4k, the 1st search result was this master piece', 'publishedTimeText': '3 years ago', 'publishDate': '2021-09-06', 'publishedAt': '2021-09-06T00:00:00Z', 'likesCount': '67', 'replyCount': '0', 'authorIsChannelOwner': False, 'isVerified': False, 'isArtist': False, 'isCreator': False}, {'commentId': 'UgwKyG3jjt78nl0Uijt4AaABAg', 'authorText': '@NotDeadYet..', 'authorChannelId': 'UCUAP8M8Lm1AdCZ0uVJC6J3w', 'authorThumbnail': [{'url': 'https://yt3.ggpht.com/Q1Z2iBknL5mTKr134332jkjFg3ecZ3yIT7QiQv6pAwA-rXfWG1aE7Zlpwn60m9lVUZ0sFPg76A=s88-c-k-c0x00ffffff-no-rj', 'width': 88, 'height': 88}], 'textDisplay': 'The song is majestic\\nThe cut and composition of the video godly\\nThe girls bouncing around motorcyclist jump + firework + water bubble etc epic idea\\nThis is 15/10', 'publishedTimeText': '5 years ago', 'publishDate': '2019-09-06', 'publishedAt': '2019-09-06T00:00:00Z', 'likesCount': '691', 'replyCount': '3', 'replyToken': 'Eg0SCzFneGY2Zmxudk5BGAYygwEaUBIaVWd3S3lHM2pqdDc4bmwwVWlqdDRBYUFCQWciAggAKhhVQzJzejRVVWdnbWVVdXRzdnpKV3g3d3cyCzFneGY2Zmxudk5BQAFICoIBAggBQi9jb21tZW50LXJlcGxpZXMtaXRlbS1VZ3dLeUczamp0NzhubDBVaWp0NEFhQUJBZw%3D%3D', 'authorIsChannelOwner': False, 'isVerified': False, 'isArtist': False, 'isCreator': False}, {'commentId': 'Ugw09y6I68Z7ZaliLqJ4AaABAg', 'authorText': '@CarloGoiff666', 'authorChannelId': 'UCZZQmlnCk8XbzJ9d2IlgEcQ', 'authorThumbnail': [{'url': 'https://yt3.ggpht.com/ytc/AIdro_lodKarwVgOU9gNpFaFULTSDDdSBTegrFgqU7zuHDkYn_0=s88-c-k-c0x00ffffff-no-rj', 'width': 88, 'height': 88}], 'textDisplay': '\"Director of photography/Director - Dustin Farrel\"\\n\\nThank you Dustin.', 'publishedTimeText': '5 years ago', 'publishDate': '2019-09-06', 'publishedAt': '2019-09-06T00:00:00Z', 'likesCount': '666', 'replyCount': '2', 'replyToken': 'Eg0SCzFneGY2Zmxudk5BGAYygwEaUBIaVWd3MDl5Nkk2OFo3WmFsaUxxSjRBYUFCQWciAggAKhhVQzJzejRVVWdnbWVVdXRzdnpKV3g3d3cyCzFneGY2Zmxudk5BQAFICoIBAggBQi9jb21tZW50LXJlcGxpZXMtaXRlbS1VZ3cwOXk2STY4WjdaYWxpTHFKNEFhQUJBZw%3D%3D', 'authorIsChannelOwner': False, 'isVerified': False, 'isArtist': False, 'isCreator': False}, {'commentId': 'UgyMUcMwxQFGgF2tCkV4AaABAg', 'authorText': '@conyo985', 'authorChannelId': 'UCa9Ze3yzu06uTEZb3evJv8w', 'authorThumbnail': [{'url': 'https://yt3.ggpht.com/ytc/AIdro_lFgBrtIgOp8qa81Fh4l5Gmf8N4NRZH-VHjqrxPtn4=s88-c-k-c0x00ffffff-no-rj', 'width': 88, 'height': 88}], 'textDisplay': 'This is a great 4K demo for any 4K TV! It should be shown in stores and it will drastically increase sales!', 'publishedTimeText': '5 years ago', 'publishDate': '2019-09-06', 'publishedAt': '2019-09-06T00:00:00Z', 'likesCount': '181', 'replyCount': '2', 'replyToken': 'Eg0SCzFneGY2Zmxudk5BGAYygwEaUBIaVWd5TVVjTXd4UUZHZ0YydENrVjRBYUFCQWciAggAKhhVQzJzejRVVWdnbWVVdXRzdnpKV3g3d3cyCzFneGY2Zmxudk5BQAFICoIBAggBQi9jb21tZW50LXJlcGxpZXMtaXRlbS1VZ3lNVWNNd3hRRkdnRjJ0Q2tWNEFhQUJBZw%3D%3D', 'authorIsChannelOwner': False, 'isVerified': False, 'isArtist': False, 'isCreator': False}, {'commentId': 'Ugx1i4-s4zyDa2HnV414AaABAg', 'authorText': '@Muddyoo7', 'authorChannelId': 'UCGraHdW77HFBUB97XcM_80A', 'authorThumbnail': [{'url': 'https://yt3.ggpht.com/ytc/AIdro_nf7rgzGRQH_vsOMedtbc35u5C4IzZJjD1bEKagP6j6rQ=s88-c-k-c0x00ffffff-no-rj', 'width': 88, 'height': 88}], 'textDisplay': 'Put this on my new Tv as a test made me smile! my wife not so much', 'publishedTimeText': '4 years ago', 'publishDate': '2020-09-06', 'publishedAt': '2020-09-06T00:00:00Z', 'likesCount': '773', 'replyCount': '9', 'replyToken': 'Eg0SCzFneGY2Zmxudk5BGAYygwEaUBIaVWd4MWk0LXM0enlEYTJIblY0MTRBYUFCQWciAggAKhhVQzJzejRVVWdnbWVVdXRzdnpKV3g3d3cyCzFneGY2Zmxudk5BQAFICoIBAggBQi9jb21tZW50LXJlcGxpZXMtaXRlbS1VZ3gxaTQtczR6eURhMkhuVjQxNEFhQUJBZw%3D%3D', 'authorIsChannelOwner': False, 'isVerified': False, 'isArtist': False, 'isCreator': False}, {'commentId': 'Ugx5olncG8RdLCRnH3t4AaABAg', 'authorText': '@Vlican', 'authorChannelId': 'UCzjQ2x02jM1KHWwX5dBeMKQ', 'authorThumbnail': [{'url': 'https://yt3.ggpht.com/ytc/AIdro_nrSi4uRHw8ctcJiUr5p1yV3yNATe7vygPWlk56MWB2Sw=s88-c-k-c0x00ffffff-no-rj', 'width': 88, 'height': 88}], 'textDisplay': 'This is my go to video for showing off my new 4k tv', 'publishedTimeText': '6 years ago', 'publishDate': '2018-09-06', 'publishedAt': '2018-09-06T00:00:00Z', 'likesCount': '1.5K', 'replyCount': '11', 'replyToken': 'Eg0SCzFneGY2Zmxudk5BGAYygwEaUBIaVWd4NW9sbmNHOFJkTENSbkgzdDRBYUFCQWciAggAKhhVQzJzejRVVWdnbWVVdXRzdnpKV3g3d3cyCzFneGY2Zmxudk5BQAFICoIBAggBQi9jb21tZW50LXJlcGxpZXMtaXRlbS1VZ3g1b2xuY0c4UmRMQ1JuSDN0NEFhQUJBZw%3D%3D', 'authorIsChannelOwner': False, 'isVerified': False, 'isArtist': False, 'isCreator': False}, {'commentId': 'UgyAhK0s03-iw-07bbp4AaABAg', 'authorText': '@petarpetrov725', 'authorChannelId': 'UCR6PzHnbjO4tA8dHl4AWt2A', 'authorThumbnail': [{'url': 'https://yt3.ggpht.com/ytc/AIdro_mc1Xs6fC_-hmhuVomVhpB8jlEcZgKG424hVPZyIIQ=s88-c-k-c0x00ffffff-no-rj', 'width': 88, 'height': 88}], 'textDisplay': 'As i suspected. Dustin Farrell is a man of culture.', 'publishedTimeText': '2 years ago', 'publishDate': '2022-09-06', 'publishedAt': '2022-09-06T00:00:00Z', 'likesCount': '9', 'replyCount': '0', 'authorIsChannelOwner': False, 'isVerified': False, 'isArtist': False, 'isCreator': False}, {'commentId': 'UgznErShuWQTLCPHMR14AaABAg', 'authorText': '@KINGhotaru11', 'authorChannelId': 'UCEDya9Fsz2OTCPGo3QfkCRg', 'authorThumbnail': [{'url': 'https://yt3.ggpht.com/ytc/AIdro_ld2MXLF80gANd4HmgxQEFVTyH5u9aifafRUZkeKyZrxw=s88-c-k-c0x00ffffff-no-rj', 'width': 88, 'height': 88}], 'textDisplay': 'the dude on the bike is a GOD,, that concentration through ALL this distraction lol', 'publishedTimeText': '5 years ago', 'publishDate': '2019-09-06', 'publishedAt': '2019-09-06T00:00:00Z', 'likesCount': '111', 'replyCount': '0', 'authorIsChannelOwner': False, 'isVerified': False, 'isArtist': False, 'isCreator': False}, {'commentId': 'Ugz_aqCeMqAycRa_lR14AaABAg', 'authorText': '@catalicos', 'authorChannelId': 'UCbWtIX8-DL8KRwFPJVKf3KA', 'authorThumbnail': [{'url': 'https://yt3.ggpht.com/ytc/AIdro_lzVSLV5wPsAcfSVTkouz2rPL_SGw_1IqjlORMQ_PM=s88-c-k-c0x00ffffff-no-rj', 'width': 88, 'height': 88}], 'textDisplay': 'The amount of devices and skills involved in making this is the actual tribute!\\nFrom high speed cameras, lenses, lighting, water spraying devices, controlled flames and explosions, trampolines, motorcycles, breast implants, acrobatics, post production, know-how, etc. \\nAll things, well done!', 'publishedTimeText': '5 years ago', 'publishDate': '2019-09-06', 'publishedAt': '2019-09-06T00:00:00Z', 'likesCount': '28', 'replyCount': '0', 'authorIsChannelOwner': False, 'isVerified': False, 'isArtist': False, 'isCreator': False}, {'commentId': 'UgyczQ0-PFI-jTu-Xe14AaABAg', 'authorText': '@julianreview146', 'authorChannelId': 'UCJOIK43kBLjOzF9s0Tykh-A', 'authorThumbnail': [{'url': 'https://yt3.ggpht.com/ytc/AIdro_ll4PY7XvTNdnyqv1ZFenz3SSdLsjFz_D0whYvavxrAJZs=s88-c-k-c0x00ffffff-no-rj', 'width': 88, 'height': 88}], 'textDisplay': 'I found the best video on youtube:', 'publishedTimeText': '6 years ago', 'publishDate': '2018-09-06', 'publishedAt': '2018-09-06T00:00:00Z', 'likesCount': '3.6K', 'replyCount': '24', 'replyToken': 'Eg0SCzFneGY2Zmxudk5BGAYygwEaUBIaVWd5Y3pRMC1QRkktalR1LVhlMTRBYUFCQWciAggAKhhVQzJzejRVVWdnbWVVdXRzdnpKV3g3d3cyCzFneGY2Zmxudk5BQAFICoIBAggBQi9jb21tZW50LXJlcGxpZXMtaXRlbS1VZ3ljelEwLVBGSS1qVHUtWGUxNEFhQUJBZw%3D%3D', 'authorIsChannelOwner': False, 'isVerified': False, 'isArtist': False, 'isCreator': False}, {'commentId': 'UgzVKaRPxPExr5H9Aq94AaABAg', 'authorText': '@florbfnarb7099', 'authorChannelId': 'UCGf7PrtdfEW5--EPaSPZ3Hg', 'authorThumbnail': [{'url': 'https://yt3.ggpht.com/ytc/AIdro_mdwtQ2lJyCyxaGHpVsrRMKWpOCTblQzF67Q6bF3NCBzQ=s88-c-k-c0x00ffffff-no-rj', 'width': 88, 'height': 88}], 'textDisplay': 'Every time I watch this it makes me happy.', 'publishedTimeText': '2 years ago', 'publishDate': '2022-09-06', 'publishedAt': '2022-09-06T00:00:00Z', 'likesCount': '7', 'replyCount': '0', 'authorIsChannelOwner': False, 'isVerified': False, 'isArtist': False, 'isCreator': False}, {'commentId': 'UgwAqo-qXTqt7KbTnx54AaABAg', 'authorText': '@stephanlourens', 'authorChannelId': 'UCO5C2mMwn72J--YAxTHvm1Q', 'authorThumbnail': [{'url': 'https://yt3.ggpht.com/ytc/AIdro_nPXOlyHIBdOF6peb66tA6YP-NjHjcSMCNz1oC_PIENcTM=s88-c-k-c0x00ffffff-no-rj', 'width': 88, 'height': 88}], 'textDisplay': \"Okay... so this is now my favourite video on YouTube. MotoX bikes, girls on trampolines, a song with a sexy French voice... can't get better than this.\", 'publishedTimeText': '6 years ago', 'publishDate': '2018-09-06', 'publishedAt': '2018-09-06T00:00:00Z', 'likesCount': '378', 'replyCount': '8', 'replyToken': 'Eg0SCzFneGY2Zmxudk5BGAYygwEaUBIaVWd3QXFvLXFYVHF0N0tiVG54NTRBYUFCQWciAggAKhhVQzJzejRVVWdnbWVVdXRzdnpKV3g3d3cyCzFneGY2Zmxudk5BQAFICoIBAggBQi9jb21tZW50LXJlcGxpZXMtaXRlbS1VZ3dBcW8tcVhUcXQ3S2JUbng1NEFhQUJBZw%3D%3D', 'authorIsChannelOwner': False, 'isVerified': False, 'isArtist': False, 'isCreator': False}, {'commentId': 'UgyeLA9YUtfjxNvyiWZ4AaABAg', 'authorText': '@jaykapoor6753', 'authorChannelId': 'UCqCRELYRz4Nkik8FssiCmdA', 'authorThumbnail': [{'url': 'https://yt3.ggpht.com/ytc/AIdro_leJGvMN8_EFw35w95GWLv29Yd947Kt8g2IE7l5fo710ZV7=s88-c-k-c0x00ffffff-no-rj', 'width': 88, 'height': 88}], 'textDisplay': '2:08 GOAT(left) most underrated video of all time. Smacks on 4k tv. Work of a lifetime', 'publishedTimeText': '4 years ago', 'publishDate': '2020-09-06', 'publishedAt': '2020-09-06T00:00:00Z', 'likesCount': '4', 'replyCount': '0', 'authorIsChannelOwner': False, 'isVerified': False, 'isArtist': False, 'isCreator': False}, {'commentId': 'Ugwz7q3Z78i98nCAm6h4AaABAg', 'authorText': '@xali2008', 'authorChannelId': 'UC5CdnnLrIHSelURk7lhj50Q', 'authorThumbnail': [{'url': 'https://yt3.ggpht.com/ytc/AIdro_koWnyVUgV8Z_SYgrZt3Yk8WOd_Wj5lUTD3q8LC07wWmw=s88-c-k-c0x00ffffff-no-rj', 'width': 88, 'height': 88}], 'textDisplay': 'give this man an Oscar, Dustin Farrell is the real MVP.', 'publishedTimeText': '5 years ago', 'publishDate': '2019-09-06', 'publishedAt': '2019-09-06T00:00:00Z', 'likesCount': '11', 'replyCount': '0', 'authorIsChannelOwner': False, 'isVerified': False, 'isArtist': False, 'isCreator': False}, {'commentId': 'UgwO2konDowLcr1IXMd4AaABAg', 'authorText': '@viswanathkumar3106', 'authorChannelId': 'UCYBcBTb4GNI2W37YzADkozA', 'authorThumbnail': [{'url': 'https://yt3.ggpht.com/ytc/AIdro_nLV3UND-ajKbQXWIfqkJQwp0C0yq0FF2U6Tm1zdGyOKecl=s88-c-k-c0x00ffffff-no-rj', 'width': 88, 'height': 88}], 'textDisplay': 'This is the greatest video ever made since the invention of the camera.', 'publishedTimeText': '1 year ago', 'publishDate': '2023-09-06', 'publishedAt': '2023-09-06T00:00:00Z', 'likesCount': '5', 'replyCount': '0', 'authorIsChannelOwner': False, 'isVerified': False, 'isArtist': False, 'isCreator': False}, {'commentId': 'UgyQB9zu4q6bGKTrOVJ4AaABAg', 'authorText': '@sartazahmad4025', 'authorChannelId': 'UCdJdqYe6wEpnwEPuwgyOqqg', 'authorThumbnail': [{'url': 'https://yt3.ggpht.com/ytc/AIdro_lST1aveQ9o2FDpTVtKtzt0hyOCASyfJv0i4-gF3vo=s88-c-k-c0x00ffffff-no-rj', 'width': 88, 'height': 88}], 'textDisplay': 'The rider and the girls make the fire for this song...beauty overloaded ...and bike action are unstoppable..love from bottom of my heart ...', 'publishedTimeText': '5 years ago', 'publishDate': '2019-09-06', 'publishedAt': '2019-09-06T00:00:00Z', 'likesCount': '29', 'replyCount': '1', 'replyToken': 'Eg0SCzFneGY2Zmxudk5BGAYygwEaUBIaVWd5UUI5enU0cTZiR0tUck9WSjRBYUFCQWciAggAKhhVQzJzejRVVWdnbWVVdXRzdnpKV3g3d3cyCzFneGY2Zmxudk5BQAFICoIBAggBQi9jb21tZW50LXJlcGxpZXMtaXRlbS1VZ3lRQjl6dTRxNmJHS1RyT1ZKNEFhQUJBZw%3D%3D', 'authorIsChannelOwner': False, 'isVerified': False, 'isArtist': False, 'isCreator': False}, {'commentId': 'UgwXTpQYt1ZVATtf1MZ4AaABAg', 'authorText': '@fithos65', 'authorChannelId': 'UCevNp4q4ClQgxrSrnrIKEcg', 'authorThumbnail': [{'url': 'https://yt3.ggpht.com/ytc/AIdro_kG7FBE9xhyLX9fBoo7a4ITUf9C0w4hvTq438vUd_WDCQ=s88-c-k-c0x00ffffff-no-rj', 'width': 88, 'height': 88}], 'textDisplay': 'You could not have picked a more perfect song to back this video', 'publishedTimeText': '5 years ago', 'publishDate': '2019-09-06', 'publishedAt': '2019-09-06T00:00:00Z', 'likesCount': '8', 'replyCount': '0', 'authorIsChannelOwner': False, 'isVerified': False, 'isArtist': False, 'isCreator': False}, {'commentId': 'UgwyjMF1jAAF0_de8lB4AaABAg', 'authorText': '@FactHunter', 'authorChannelId': 'UCMO40AaUbdaXqXe9s-Xy_Zg', 'authorThumbnail': [{'url': 'https://yt3.ggpht.com/ytc/AIdro_lJKwpoHnHmMkQSZ66eufhtNW4JId7ERgvYaVpe8qwlSKE=s88-c-k-c0x00ffffff-no-rj', 'width': 88, 'height': 88}], 'textDisplay': 'This is the best video I have ever seen in youtube.. \\nGlad that I found this video', 'publishedTimeText': '6 years ago', 'publishDate': '2018-09-06', 'publishedAt': '2018-09-06T00:00:00Z', 'likesCount': '283', 'replyCount': '0', 'authorIsChannelOwner': False, 'isVerified': False, 'isArtist': False, 'isCreator': False}], 'msg': ''}\n"
     ]
    }
   ],
   "source": [
    "import http.client\n",
    "import json\n",
    "conn = http.client.HTTPSConnection(\"yt-api.p.rapidapi.com\")\n",
    "\n",
    "headers = {\n",
    "    'x-rapidapi-key': \"cb50110465msh7ab905f9be94fa7p1c6954jsn63ec422eb069\",\n",
    "    'x-rapidapi-host': \"yt-api.p.rapidapi.com\"\n",
    "}\n",
    "\n",
    "conn.request(\"GET\", \"/comments?id=1gxf6flnvNA\", headers=headers)\n",
    "\n",
    "res = conn.getresponse()\n",
    "data = res.read()\n",
    "\n",
    "print(json.loads(data.decode(\"utf-8\")))"
   ]
  },
  {
   "cell_type": "code",
   "execution_count": null,
   "id": "e2eeeeda-1f2f-4751-b92a-3fde8a2932a1",
   "metadata": {},
   "outputs": [],
   "source": []
  }
 ],
 "metadata": {
  "kernelspec": {
   "display_name": "Python 3 (ipykernel)",
   "language": "python",
   "name": "python3"
  },
  "language_info": {
   "codemirror_mode": {
    "name": "ipython",
    "version": 3
   },
   "file_extension": ".py",
   "mimetype": "text/x-python",
   "name": "python",
   "nbconvert_exporter": "python",
   "pygments_lexer": "ipython3",
   "version": "3.8.0"
  }
 },
 "nbformat": 4,
 "nbformat_minor": 5
}
