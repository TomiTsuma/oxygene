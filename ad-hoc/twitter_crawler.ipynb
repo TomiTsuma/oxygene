{
 "cells": [
  {
   "cell_type": "code",
   "execution_count": 1,
   "id": "75f57977-eeda-4c61-ada5-71b7af28d870",
   "metadata": {},
   "outputs": [
    {
     "name": "stderr",
     "output_type": "stream",
     "text": [
      "C:\\Users\\tommy\\AppData\\Roaming\\Python\\Python38\\site-packages\\scipy\\__init__.py:173: UserWarning: A NumPy version >=1.19.5 and <1.27.0 is required for this version of SciPy (detected version 1.19.2)\n",
      "  warnings.warn(f\"A NumPy version >={np_minversion} and <{np_maxversion}\"\n"
     ]
    }
   ],
   "source": [
    "from selenium import webdriver\n",
    "from selenium.webdriver.common.by import By\n",
    "from selenium.webdriver.common.keys import Keys\n",
    "from selenium.webdriver.chrome.service import Service\n",
    "import time\n",
    "import json\n",
    "import tensorflow as tf\n",
    "import sys\n"
   ]
  },
  {
   "cell_type": "code",
   "execution_count": 2,
   "id": "c2d97715-f05b-4a99-b4c1-f7b2729924b3",
   "metadata": {},
   "outputs": [],
   "source": [
    "# Set up the webdriver (make sure the path to your chromedriver is correct)\n",
    "driver_path = Service('D://CoreOutline/scim/ad-hoc/chromedriver-win64/chromedriver.exe')\n",
    "driver = webdriver.Chrome(service=driver_path)\n",
    "\n",
    "# Open the Beer Game website\n",
    "driver.get(\"https:/x.com/\")\n",
    "\n"
   ]
  },
  {
   "cell_type": "code",
   "execution_count": null,
   "id": "995e3414-f555-44e2-a7d7-b3288c4243ef",
   "metadata": {},
   "outputs": [],
   "source": []
  }
 ],
 "metadata": {
  "kernelspec": {
   "display_name": "Python 3 (ipykernel)",
   "language": "python",
   "name": "python3"
  },
  "language_info": {
   "codemirror_mode": {
    "name": "ipython",
    "version": 3
   },
   "file_extension": ".py",
   "mimetype": "text/x-python",
   "name": "python",
   "nbconvert_exporter": "python",
   "pygments_lexer": "ipython3",
   "version": "3.8.0"
  }
 },
 "nbformat": 4,
 "nbformat_minor": 5
}
